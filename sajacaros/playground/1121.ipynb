{
 "cells": [
  {
   "cell_type": "code",
   "execution_count": 1,
   "id": "initial_id",
   "metadata": {
    "collapsed": true,
    "ExecuteTime": {
     "end_time": "2023-11-21T15:01:07.710140100Z",
     "start_time": "2023-11-21T15:01:07.693796900Z"
    }
   },
   "outputs": [],
   "source": [
    "# https://www.kaggle.com/code/zulqarnainali/explained-singel-model-optiver"
   ]
  },
  {
   "cell_type": "code",
   "execution_count": 2,
   "outputs": [],
   "source": [
    "import gc  # Garbage collection for memory management\n",
    "import os  # Operating system-related functions\n",
    "import time  # Time-related functions\n",
    "import warnings  # Handling warnings\n",
    "from itertools import combinations  # For creating combinations of elements\n",
    "from warnings import simplefilter  # Simplifying warning handling\n",
    "\n",
    "# 📦 Importing machine learning libraries\n",
    "import joblib  # For saving and loading models\n",
    "import numpy as np  # Numerical operations\n",
    "import pandas as pd  # Data manipulation and analysis\n",
    "from sklearn.metrics import mean_absolute_error  # Metric for evaluation\n",
    "from sklearn.model_selection import KFold, TimeSeriesSplit  # Cross-validation techniques\n",
    "\n",
    "import seaborn as sns\n",
    "import matplotlib.pyplot as plt"
   ],
   "metadata": {
    "collapsed": false,
    "ExecuteTime": {
     "end_time": "2023-11-21T15:01:08.076050600Z",
     "start_time": "2023-11-21T15:01:07.713137600Z"
    }
   },
   "id": "4b007a636cc52874"
  },
  {
   "cell_type": "code",
   "execution_count": 3,
   "outputs": [],
   "source": [
    "# 🤐 Disable warnings to keep the code clean\n",
    "warnings.filterwarnings(\"ignore\")\n",
    "simplefilter(action=\"ignore\", category=pd.errors.PerformanceWarning)\n",
    "\n",
    "# 📊 Define flags and variables\n",
    "is_offline = False  # Flag for online/offline mode\n",
    "is_train = True  # Flag for training mode\n",
    "is_infer = False  # Flag for inference mode"
   ],
   "metadata": {
    "collapsed": false,
    "ExecuteTime": {
     "end_time": "2023-11-21T15:01:08.094064500Z",
     "start_time": "2023-11-21T15:01:08.080560300Z"
    }
   },
   "id": "ce46cc9508c97d21"
  },
  {
   "cell_type": "code",
   "execution_count": 4,
   "outputs": [
    {
     "name": "stdout",
     "output_type": "stream",
     "text": [
      "far : 1.0017128691026516, near : 0.999660106068129\n"
     ]
    },
    {
     "data": {
      "text/plain": "(5237760, 17)"
     },
     "execution_count": 4,
     "metadata": {},
     "output_type": "execute_result"
    }
   ],
   "source": [
    "# 📂 Read the dataset from a CSV file using Pandas\n",
    "data_path = '../../data/'\n",
    "df = pd.read_csv(data_path + 'train.csv')\n",
    "\n",
    "# 🧹 Remove rows with missing values in the \"target\" column\n",
    "df = df.dropna(subset=[\"target\"])\n",
    "# null 값 처리\n",
    "far_price_mean = df['far_price'].mean()\n",
    "near_price_mean = df['near_price'].mean()\n",
    "print(f'far : {far_price_mean}, near : {near_price_mean}')\n",
    "# df['far_price'] = df['far_price'].fillna(far_price_mean)\n",
    "# df['near_price'] = df['near_price'].fillna(near_price_mean)\n",
    "df['far_price'] = df['far_price'].fillna(1)\n",
    "df['near_price'] = df['near_price'].fillna(0)\n",
    "\n",
    "df = df.dropna().reset_index(drop=True)\n",
    "\n",
    "# 📏 Get the shape of the DataFrame (number of rows and columns)\n",
    "df.shape"
   ],
   "metadata": {
    "collapsed": false,
    "ExecuteTime": {
     "end_time": "2023-11-21T15:01:16.205984500Z",
     "start_time": "2023-11-21T15:01:08.088610200Z"
    }
   },
   "id": "20287b05cdfd3d11"
  },
  {
   "cell_type": "code",
   "execution_count": 5,
   "outputs": [],
   "source": [
    "# https://www.kaggle.com/competitions/optiver-trading-at-the-close/discussion/442851\n",
    "weights = [\n",
    "    0.004, 0.001, 0.002, 0.006, 0.004, 0.004, 0.002, 0.006, 0.006, 0.002, 0.002, 0.008,\n",
    "    0.006, 0.002, 0.008, 0.006, 0.002, 0.006, 0.004, 0.002, 0.004, 0.001, 0.006, 0.004,\n",
    "    0.002, 0.002, 0.004, 0.002, 0.004, 0.004, 0.001, 0.001, 0.002, 0.002, 0.006, 0.004,\n",
    "    0.004, 0.004, 0.006, 0.002, 0.002, 0.04 , 0.002, 0.002, 0.004, 0.04 , 0.002, 0.001,\n",
    "    0.006, 0.004, 0.004, 0.006, 0.001, 0.004, 0.004, 0.002, 0.006, 0.004, 0.006, 0.004,\n",
    "    0.006, 0.004, 0.002, 0.001, 0.002, 0.004, 0.002, 0.008, 0.004, 0.004, 0.002, 0.004,\n",
    "    0.006, 0.002, 0.004, 0.004, 0.002, 0.004, 0.004, 0.004, 0.001, 0.002, 0.002, 0.008,\n",
    "    0.02 , 0.004, 0.006, 0.002, 0.02 , 0.002, 0.002, 0.006, 0.004, 0.002, 0.001, 0.02,\n",
    "    0.006, 0.001, 0.002, 0.004, 0.001, 0.002, 0.006, 0.006, 0.004, 0.006, 0.001, 0.002,\n",
    "    0.004, 0.006, 0.006, 0.001, 0.04 , 0.006, 0.002, 0.004, 0.002, 0.002, 0.006, 0.002,\n",
    "    0.002, 0.004, 0.006, 0.006, 0.002, 0.002, 0.008, 0.006, 0.004, 0.002, 0.006, 0.002,\n",
    "    0.004, 0.006, 0.002, 0.004, 0.001, 0.004, 0.002, 0.004, 0.008, 0.006, 0.008, 0.002,\n",
    "    0.004, 0.002, 0.001, 0.004, 0.004, 0.004, 0.006, 0.008, 0.004, 0.001, 0.001, 0.002,\n",
    "    0.006, 0.004, 0.001, 0.002, 0.006, 0.004, 0.006, 0.008, 0.002, 0.002, 0.004, 0.002,\n",
    "    0.04 , 0.002, 0.002, 0.004, 0.002, 0.002, 0.006, 0.02 , 0.004, 0.002, 0.006, 0.02,\n",
    "    0.001, 0.002, 0.006, 0.004, 0.006, 0.004, 0.004, 0.004, 0.004, 0.002, 0.004, 0.04,\n",
    "    0.002, 0.008, 0.002, 0.004, 0.001, 0.004, 0.006, 0.004,\n",
    "]\n",
    "weights = {int(k):v for k,v in enumerate(weights)}"
   ],
   "metadata": {
    "collapsed": false,
    "ExecuteTime": {
     "end_time": "2023-11-21T15:01:16.207983800Z",
     "start_time": "2023-11-21T15:01:16.200217300Z"
    }
   },
   "id": "f6b7944fc800930b"
  },
  {
   "cell_type": "code",
   "execution_count": 6,
   "outputs": [],
   "source": [
    "# 🧹 Function to reduce memory usage of a Pandas DataFrame\n",
    "def reduce_mem_usage(df_, verbose=0):\n",
    "    \"\"\"\n",
    "    Iterate through all numeric columns of a dataframe and modify the data type\n",
    "    to reduce memory usage.\n",
    "    \"\"\"\n",
    "    \n",
    "    # 📏 Calculate the initial memory usage of the DataFrame\n",
    "    start_mem = df_.memory_usage().sum() / 1024**2\n",
    "\n",
    "    # 🔄 Iterate through each column in the DataFrame\n",
    "    for col in df_.columns:\n",
    "        col_type = df_[col].dtype\n",
    "\n",
    "        # Check if the column's data type is not 'object' (i.e., numeric)\n",
    "        if col_type != object:\n",
    "            c_min = df_[col].min()\n",
    "            c_max = df_[col].max()\n",
    "            \n",
    "            # Check if the column's data type is an integer\n",
    "            if str(col_type)[:3] == \"int\":\n",
    "                if c_min > np.iinfo(np.int8).min and c_max < np.iinfo(np.int8).max:\n",
    "                    df_[col] = df_[col].astype(np.int8)\n",
    "                elif c_min > np.iinfo(np.int16).min and c_max < np.iinfo(np.int16).max:\n",
    "                    df_[col] = df_[col].astype(np.int16)\n",
    "                elif c_min > np.iinfo(np.int32).min and c_max < np.iinfo(np.int32).max:\n",
    "                    df_[col] = df_[col].astype(np.int32)\n",
    "                elif c_min > np.iinfo(np.int64).min and c_max < np.iinfo(np.int64).max:\n",
    "                    df_[col] = df_[col].astype(np.int64)\n",
    "            else:\n",
    "                # Check if the column's data type is a float\n",
    "                if c_min > np.finfo(np.float16).min and c_max < np.finfo(np.float16).max:\n",
    "                    df_[col] = df_[col].astype(np.float32)\n",
    "                elif c_min > np.finfo(np.float32).min and c_max < np.finfo(np.float32).max:\n",
    "                    df_[col] = df_[col].astype(np.float32)\n",
    "                else:\n",
    "                    df_[col] = df_[col].astype(np.float32)\n",
    "\n",
    "    # ℹ️ Provide memory optimization information if 'verbose' is True\n",
    "    if verbose:\n",
    "        logger.info(f\"Memory usage of dataframe is {start_mem:.2f} MB\")\n",
    "        end_mem = df_.memory_usage().sum() / 1024**2\n",
    "        logger.info(f\"Memory usage after optimization is: {end_mem:.2f} MB\")\n",
    "        decrease = 100 * (start_mem - end_mem) / start_mem\n",
    "        logger.info(f\"Decreased by {decrease:.2f}%\")\n",
    "\n",
    "    # 🔄 Return the DataFrame with optimized memory usage\n",
    "    return df_"
   ],
   "metadata": {
    "collapsed": false,
    "ExecuteTime": {
     "end_time": "2023-11-21T15:01:16.249762Z",
     "start_time": "2023-11-21T15:01:16.214281200Z"
    }
   },
   "id": "4bb82af2e0136e7e"
  },
  {
   "cell_type": "markdown",
   "source": [
    "# Parallel Triplet Imbalance Calculation"
   ],
   "metadata": {
    "collapsed": false
   },
   "id": "b184ea28544b1738"
  },
  {
   "cell_type": "code",
   "execution_count": 7,
   "outputs": [],
   "source": [
    "# 🏎️ Import Numba for just-in-time (JIT) compilation and parallel processing\n",
    "from numba import njit, prange\n",
    "\n",
    "eps = 1e-8\n",
    "\n",
    "@njit(parallel=True)\n",
    "def compute_triplet_imbalance(df_values, comb_indices):\n",
    "    num_rows = df_values.shape[0]\n",
    "    num_combinations = len(comb_indices)\n",
    "    imbalance_features = np.empty((num_rows, num_combinations))\n",
    "    for i in prange(num_combinations):\n",
    "        a, b, c = comb_indices[i]\n",
    "        for j in range(num_rows):\n",
    "            max_val = max(df_values[j, a], df_values[j, b], df_values[j, c])\n",
    "            min_val = min(df_values[j, a], df_values[j, b], df_values[j, c])\n",
    "            mid_val = df_values[j, a] + df_values[j, b] + df_values[j, c] - min_val - max_val\n",
    "            \n",
    "            # todo\n",
    "            if mid_val == min_val:\n",
    "                imbalance_features[j, i] = np.nan\n",
    "            else:\n",
    "                imbalance_features[j, i] = (max_val - mid_val) / (mid_val - min_val)\n",
    "\n",
    "    return imbalance_features\n",
    "\n",
    "def calculate_triplet_imbalance_numba(price, df_):\n",
    "    df_values = df_[price].values\n",
    "    comb_indices = [(price.index(a), price.index(b), price.index(c)) for a, b, c in combinations(price, 3)]\n",
    "    features_array = compute_triplet_imbalance(df_values, comb_indices)\n",
    "    columns = [f\"{a}_{b}_{c}_imb2\" for a, b, c in combinations(price, 3)]\n",
    "    features = pd.DataFrame(features_array, columns=columns)\n",
    "    return features"
   ],
   "metadata": {
    "collapsed": false,
    "ExecuteTime": {
     "end_time": "2023-11-21T15:01:16.533158900Z",
     "start_time": "2023-11-21T15:01:16.225446Z"
    }
   },
   "id": "e0780db33a4d1df1"
  },
  {
   "cell_type": "markdown",
   "source": [
    "# Feature Generation Functions"
   ],
   "metadata": {
    "collapsed": false
   },
   "id": "ebf624355da2b062"
  },
  {
   "cell_type": "code",
   "execution_count": 8,
   "outputs": [],
   "source": [
    "# https://www.kaggle.com/code/lblhandsome/optiver-robust-best-single-model\n",
    "def imbalance_features(df_:pd.DataFrame):\n",
    "    # Define lists of price and size-related column names\n",
    "    prices = [\"reference_price\", \"far_price\", \"near_price\", \"ask_price\", \"bid_price\", \"wap\"]\n",
    "    sizes = [\"matched_size\", \"bid_size\", \"ask_size\", \"imbalance_size\"]\n",
    "    df_[\"volume\"] = df_.eval(\"ask_size + bid_size\")\n",
    "    df_[\"mid_price\"] = df_.eval(\"(ask_price + bid_price) / 2\")\n",
    "    df_[\"liquidity_imbalance\"] = df_.eval(\"(bid_size-ask_size)/(bid_size+ask_size)\")\n",
    "    df_[\"matched_imbalance\"] = df_.eval(\"(imbalance_size-matched_size)/(matched_size+imbalance_size)\")\n",
    "    df_[\"size_imbalance\"] = df_.eval(\"bid_size / ask_size\")\n",
    "\n",
    "    for c in combinations(prices, 2):\n",
    "        df_[f\"{c[0]}_{c[1]}_imb\"] = df_.eval(f\"({c[0]} - {c[1]})/({c[0]} + {c[1]})\")\n",
    "\n",
    "    for c in [['ask_price', 'bid_price', 'wap', 'reference_price'], sizes]:\n",
    "        triplet_feature = calculate_triplet_imbalance_numba(c, df_)\n",
    "        df_[triplet_feature.columns] = triplet_feature.values\n",
    "   \n",
    "    df_[\"stock_weights\"] = df_[\"stock_id\"].map(weights)\n",
    "    df_[\"weighted_wap\"] = df_[\"stock_weights\"] * df[\"wap\"]\n",
    "    df_['wap_momentum'] = df_.groupby('stock_id')['weighted_wap'].pct_change(periods=6)\n",
    "    df_[\"imbalance_momentum\"] = df_.groupby(['stock_id'])['imbalance_size'].diff(periods=1) / df_['matched_size']\n",
    "    df_[\"price_spread\"] = df_[\"ask_price\"] - df_[\"bid_price\"]\n",
    "    df_[\"spread_intensity\"] = df_.groupby(['stock_id'])['price_spread'].diff()\n",
    "    df_['price_pressure'] = df_['imbalance_size'] * (df_['ask_price'] - df_['bid_price'])\n",
    "    df_['market_urgency'] = df_['price_spread'] * df_['liquidity_imbalance']\n",
    "    df_['depth_pressure'] = (df_['ask_size'] - df_['bid_size']) * (df_['far_price'] - df_['near_price'])\n",
    "    df_['spread_depth_ratio'] = (df_['ask_price'] - df_['bid_price']) / (df_['bid_size'] + df_['ask_size'])\n",
    "    df_['mid_price_movement'] = df_['mid_price'].diff(periods=5).apply(lambda x: 1 if x > 0 else (-1 if x < 0 else 0))\n",
    "    df_['micro_price'] = ((df_['bid_price'] * df_['ask_size']) + (df_['ask_price'] * df_['bid_size'])) / (df_['bid_size'] + df_['ask_size'])\n",
    "    df_['relative_spread'] = (df_['ask_price'] - df_['bid_price']) / df_['wap']\n",
    "    \n",
    "    # Calculate various statistical aggregation features\n",
    "    for func in [\"mean\", \"std\", \"skew\", \"kurt\"]:\n",
    "        df_[f\"all_prices_{func}\"] = df_[prices].agg(func, axis=1)\n",
    "        df_[f\"all_sizes_{func}\"] = df_[sizes].agg(func, axis=1)\n",
    "        \n",
    "\n",
    "    for col in ['matched_size', 'imbalance_size', 'reference_price', 'imbalance_buy_sell_flag']:\n",
    "        for window in [1, 5, 10]:\n",
    "            df_[f\"{col}_shift_{window}\"] = df_.groupby('stock_id')[col].shift(window)\n",
    "            df_[f\"{col}_ret_{window}\"] = df_.groupby('stock_id')[col].pct_change(window)\n",
    "    \n",
    "    # Calculate diff features for specific columns\n",
    "    for col in ['ask_price', 'bid_price', 'ask_size', 'bid_size', 'market_urgency', 'imbalance_momentum', 'size_imbalance']:\n",
    "        for window in [1, 5, 10]:\n",
    "            df_[f\"{col}_diff_{window}\"] = df_.groupby(\"stock_id\")[col].diff(window)\n",
    "\n",
    "    return df_.replace([np.inf, -np.inf], 0)\n",
    "\n",
    "def other_features(df_):\n",
    "    df_[\"dow\"] = df_[\"date_id\"] % 5  # Day of the week\n",
    "    df_[\"seconds\"] = df_[\"seconds_in_bucket\"] % 60  \n",
    "    df_[\"minute\"] = df_[\"seconds_in_bucket\"] // 60  \n",
    "    for key, value in global_stock_id_feats.items():\n",
    "        df_[f\"global_{key}\"] = df_[\"stock_id\"].map(value.to_dict())\n",
    "\n",
    "    return df_\n",
    "\n",
    "def generate_all_features(df_):\n",
    "    # Select relevant columns for feature generation\n",
    "    cols = [c for c in df_.columns if c not in [\"row_id\", \"time_id\", \"target\"]]\n",
    "    df_ = df_[cols]\n",
    "    \n",
    "    # Generate imbalance features\n",
    "    df_ = imbalance_features(df_)\n",
    "    df_ = other_features(df_)\n",
    "    gc.collect()  \n",
    "    feature_name = [i for i in df_.columns if i not in [\"row_id\", \"target\", \"time_id\", \"date_id\"]]\n",
    "    return df_[feature_name]"
   ],
   "metadata": {
    "collapsed": false,
    "ExecuteTime": {
     "end_time": "2023-11-21T15:01:16.560679900Z",
     "start_time": "2023-11-21T15:01:16.533158900Z"
    }
   },
   "id": "b666bd8a027fc8b7"
  },
  {
   "cell_type": "code",
   "execution_count": 9,
   "outputs": [],
   "source": [
    "global_stock_id_feats = {\n",
    "    \"median_size\": df.groupby(\"stock_id\")[\"bid_size\"].median() + df.groupby(\"stock_id\")[\"ask_size\"].median(),\n",
    "    \"std_size\": df.groupby(\"stock_id\")[\"bid_size\"].std() + df.groupby(\"stock_id\")[\"ask_size\"].std(),\n",
    "    # \"ptp_size\": df.groupby(\"stock_id\")[\"bid_size\"].max() - df.groupby(\"stock_id\")[\"bid_size\"].min(),\n",
    "    \"ptp_size\": df.groupby(\"stock_id\")[\"bid_size\"].max() - df.groupby(\"stock_id\")[\"ask_size\"].min(),\n",
    "    \"median_price\": df.groupby(\"stock_id\")[\"bid_price\"].median() + df.groupby(\"stock_id\")[\"ask_price\"].median(),\n",
    "    \"std_price\": df.groupby(\"stock_id\")[\"bid_price\"].std() + df.groupby(\"stock_id\")[\"ask_price\"].std(),\n",
    "    \"ptp_price\": df.groupby(\"stock_id\")[\"bid_price\"].max() - df.groupby(\"stock_id\")[\"ask_price\"].min(),\n",
    "}\n",
    "\n",
    "y_all = df[['target']].values\n",
    "df_train_feats = generate_all_features(df)\n",
    "df_train_feats = reduce_mem_usage(df_train_feats)\n",
    "cols_group_by = ['stock_id', 'imbalance_buy_sell_flag']\n",
    "train_grouped_median = df_train_feats.groupby(cols_group_by).transform('median')\n",
    "df_train_feats = df_train_feats.fillna(train_grouped_median)\n",
    "df_train_feats = reduce_mem_usage(df_train_feats)"
   ],
   "metadata": {
    "collapsed": false,
    "ExecuteTime": {
     "end_time": "2023-11-21T15:02:43.867138800Z",
     "start_time": "2023-11-21T15:01:16.562599700Z"
    }
   },
   "id": "5a6ea818d706560a"
  },
  {
   "cell_type": "code",
   "execution_count": 10,
   "outputs": [
    {
     "data": {
      "text/plain": "stock_id                                    0\nimbalance_size_ret_10                       0\nimbalance_buy_sell_flag_ret_10              0\nimbalance_buy_sell_flag_shift_10            0\nimbalance_buy_sell_flag_ret_5               0\n                                           ..\nask_price_bid_price_reference_price_imb2    0\nask_price_bid_price_wap_imb2                0\nbid_price_wap_imb                           0\nask_price_wap_imb                           0\nglobal_ptp_price                            0\nLength: 116, dtype: int64"
     },
     "execution_count": 10,
     "metadata": {},
     "output_type": "execute_result"
    }
   ],
   "source": [
    "df_train_feats.isnull().sum(axis=0).sort_values(ascending=False)"
   ],
   "metadata": {
    "collapsed": false,
    "ExecuteTime": {
     "end_time": "2023-11-21T15:02:44.490849100Z",
     "start_time": "2023-11-21T15:02:43.835883Z"
    }
   },
   "id": "d254d90ef9e7f532"
  },
  {
   "cell_type": "code",
   "execution_count": 11,
   "outputs": [
    {
     "data": {
      "text/plain": "(5237760, 116)"
     },
     "execution_count": 11,
     "metadata": {},
     "output_type": "execute_result"
    }
   ],
   "source": [
    "df_train_feats.shape"
   ],
   "metadata": {
    "collapsed": false,
    "ExecuteTime": {
     "end_time": "2023-11-21T15:02:44.490849100Z",
     "start_time": "2023-11-21T15:02:44.307140100Z"
    }
   },
   "id": "64c3c92f42ef91ac"
  },
  {
   "cell_type": "code",
   "execution_count": 12,
   "outputs": [],
   "source": [
    "df_train_feats = df_train_feats.drop(columns='stock_id')"
   ],
   "metadata": {
    "collapsed": false,
    "ExecuteTime": {
     "end_time": "2023-11-21T15:02:45.352386700Z",
     "start_time": "2023-11-21T15:02:44.322764700Z"
    }
   },
   "id": "95b8e74815f4d821"
  },
  {
   "cell_type": "code",
   "execution_count": 13,
   "outputs": [],
   "source": [
    "from sklearn.preprocessing import MinMaxScaler, StandardScaler\n",
    "\n",
    "scaler = StandardScaler()\n",
    "X_all = scaler.fit_transform(df_train_feats.values)"
   ],
   "metadata": {
    "collapsed": false,
    "ExecuteTime": {
     "end_time": "2023-11-21T15:02:52.903352700Z",
     "start_time": "2023-11-21T15:02:45.352386700Z"
    }
   },
   "id": "486dbc5d7d823f02"
  },
  {
   "cell_type": "code",
   "execution_count": 14,
   "outputs": [],
   "source": [
    "from sklearn.model_selection import train_test_split\n",
    "\n",
    "X_train, X_valid, y_train, y_valid = train_test_split(X_all, y_all, test_size=0.2, random_state=42)"
   ],
   "metadata": {
    "collapsed": false,
    "ExecuteTime": {
     "end_time": "2023-11-21T15:03:02.527307800Z",
     "start_time": "2023-11-21T15:02:52.903352700Z"
    }
   },
   "id": "1a5eedad04b69daf"
  },
  {
   "cell_type": "code",
   "execution_count": 15,
   "outputs": [],
   "source": [
    "import torch\n",
    "import torch.nn as nn\n",
    "import torch.nn.functional as F\n",
    "from torch.utils.data import Dataset, TensorDataset, DataLoader\n",
    "from torchvision.transforms import transforms"
   ],
   "metadata": {
    "collapsed": false,
    "ExecuteTime": {
     "end_time": "2023-11-21T15:03:06.476817400Z",
     "start_time": "2023-11-21T15:03:02.532731700Z"
    }
   },
   "id": "264ea7828933dfa7"
  },
  {
   "cell_type": "code",
   "execution_count": 16,
   "outputs": [
    {
     "data": {
      "text/plain": "device(type='cuda')"
     },
     "execution_count": 16,
     "metadata": {},
     "output_type": "execute_result"
    }
   ],
   "source": [
    "# 장비 설정\n",
    "device = torch.device('cuda' if torch.cuda.is_available() else 'cpu')\n",
    "device"
   ],
   "metadata": {
    "collapsed": false,
    "ExecuteTime": {
     "end_time": "2023-11-21T15:03:06.572165Z",
     "start_time": "2023-11-21T15:03:06.472653400Z"
    }
   },
   "id": "58a9f18e76fa1786"
  },
  {
   "cell_type": "code",
   "execution_count": 17,
   "outputs": [],
   "source": [
    "train_dataset = TensorDataset(torch.Tensor(X_train), torch.Tensor(y_train))\n",
    "valid_dataset = TensorDataset(torch.Tensor(X_valid), torch.Tensor(y_valid))"
   ],
   "metadata": {
    "collapsed": false,
    "ExecuteTime": {
     "end_time": "2023-11-21T15:03:06.634195400Z",
     "start_time": "2023-11-21T15:03:06.572165Z"
    }
   },
   "id": "b5ea02e03ef08775"
  },
  {
   "cell_type": "code",
   "execution_count": 18,
   "outputs": [],
   "source": [
    "batch_size=2048\n",
    "train_loader = DataLoader(dataset=train_dataset, batch_size=batch_size, shuffle=True, drop_last=True)\n",
    "valid_loader = DataLoader(dataset=valid_dataset, batch_size=batch_size, shuffle=False, drop_last=True)"
   ],
   "metadata": {
    "collapsed": false,
    "ExecuteTime": {
     "end_time": "2023-11-21T15:03:06.665646400Z",
     "start_time": "2023-11-21T15:03:06.602743500Z"
    }
   },
   "id": "761956a8c31f34b3"
  },
  {
   "cell_type": "code",
   "execution_count": 19,
   "outputs": [],
   "source": [
    "import math\n",
    "from torch.optim.lr_scheduler import _LRScheduler\n",
    "\n",
    "class CosineAnnealingWarmUpRestarts(_LRScheduler):\n",
    "    def __init__(self, optimizer, T_0, T_mult=1, eta_max=0.1, T_up=0, gamma=1., last_epoch=-1):\n",
    "        if T_0 <= 0 or not isinstance(T_0, int):\n",
    "            raise ValueError(\"Expected positive integer T_0, but got {}\".format(T_0))\n",
    "        if T_mult < 1 or not isinstance(T_mult, int):\n",
    "            raise ValueError(\"Expected integer T_mult >= 1, but got {}\".format(T_mult))\n",
    "        if T_up < 0 or not isinstance(T_up, int):\n",
    "            raise ValueError(\"Expected positive integer T_up, but got {}\".format(T_up))\n",
    "        self.T_0 = T_0\n",
    "        self.T_mult = T_mult\n",
    "        self.base_eta_max = eta_max\n",
    "        self.eta_max = eta_max\n",
    "        self.T_up = T_up\n",
    "        self.T_i = T_0\n",
    "        self.gamma = gamma\n",
    "        self.cycle = 0\n",
    "        self.T_cur = last_epoch\n",
    "        super(CosineAnnealingWarmUpRestarts, self).__init__(optimizer, last_epoch)\n",
    "\n",
    "    def get_lr(self):\n",
    "        if self.T_cur == -1:\n",
    "            return self.base_lrs\n",
    "        elif self.T_cur < self.T_up:\n",
    "            return [(self.eta_max - base_lr)*self.T_cur / self.T_up + base_lr for base_lr in self.base_lrs]\n",
    "        else:\n",
    "            return [base_lr + (self.eta_max - base_lr) * (1 + math.cos(math.pi * (self.T_cur-self.T_up) / (self.T_i - self.T_up))) / 2\n",
    "                    for base_lr in self.base_lrs]\n",
    "\n",
    "    def step(self, epoch=None):\n",
    "        if epoch is None:\n",
    "            epoch = self.last_epoch + 1\n",
    "            self.T_cur = self.T_cur + 1\n",
    "            if self.T_cur >= self.T_i:\n",
    "                self.cycle += 1\n",
    "                self.T_cur = self.T_cur - self.T_i\n",
    "                self.T_i = (self.T_i - self.T_up) * self.T_mult + self.T_up\n",
    "        else:\n",
    "            if epoch >= self.T_0:\n",
    "                if self.T_mult == 1:\n",
    "                    self.T_cur = epoch % self.T_0\n",
    "                    self.cycle = epoch // self.T_0\n",
    "                else:\n",
    "                    n = int(math.log((epoch / self.T_0 * (self.T_mult - 1) + 1), self.T_mult))\n",
    "                    self.cycle = n\n",
    "                    self.T_cur = epoch - self.T_0 * (self.T_mult ** n - 1) / (self.T_mult - 1)\n",
    "                    self.T_i = self.T_0 * self.T_mult ** (n)\n",
    "            else:\n",
    "                self.T_i = self.T_0\n",
    "                self.T_cur = epoch\n",
    "\n",
    "        self.eta_max = self.base_eta_max * (self.gamma**self.cycle)\n",
    "        self.last_epoch = math.floor(epoch)\n",
    "        for param_group, lr in zip(self.optimizer.param_groups, self.get_lr()):\n",
    "            param_group['lr'] = lr"
   ],
   "metadata": {
    "collapsed": false,
    "ExecuteTime": {
     "end_time": "2023-11-21T15:03:06.665646400Z",
     "start_time": "2023-11-21T15:03:06.629191400Z"
    }
   },
   "id": "fa427cc8e6b8fe1a"
  },
  {
   "cell_type": "code",
   "execution_count": 20,
   "outputs": [],
   "source": [
    "# early stopper\n",
    "class EarlyStopper:\n",
    "    def __init__(self, patience=10, min_delta=0.00001):\n",
    "        self.best_model = None\n",
    "        self.patience = patience\n",
    "        self.min_delta = min_delta\n",
    "        self.counter = 0\n",
    "        self.min_validation_loss = float('inf')\n",
    "        \n",
    "    def get_best_model(self):\n",
    "        return self.best_model\n",
    "\n",
    "    def early_stop(self, validation_loss, model):\n",
    "        if validation_loss < self.min_validation_loss:\n",
    "            print(f\"New best loss: {validation_loss:>4f}\")\n",
    "            self.min_validation_loss = validation_loss\n",
    "            self.counter = 0\n",
    "            self.best_model = model\n",
    "        elif validation_loss > (self.min_validation_loss + self.min_delta):\n",
    "            self.counter += 1\n",
    "            if self.counter >= self.patience:\n",
    "                return True\n",
    "        return False"
   ],
   "metadata": {
    "collapsed": false,
    "ExecuteTime": {
     "end_time": "2023-11-21T15:03:06.665646400Z",
     "start_time": "2023-11-21T15:03:06.634195400Z"
    }
   },
   "id": "3481059198b0a5e2"
  },
  {
   "cell_type": "code",
   "execution_count": 21,
   "outputs": [],
   "source": [
    "input_size = df_train_feats.shape[1]\n",
    "class DNNModel(nn.Module):\n",
    "    def __init__(self):\n",
    "        super().__init__()\n",
    "        self.fc1 = nn.Linear(in_features=input_size, out_features=512) \n",
    "        # self.bn1 = nn.BatchNorm1d(num_features=512)\n",
    "        self.fc2 = nn.Linear(in_features=512, out_features=256)\n",
    "        self.bn2 = nn.BatchNorm1d(num_features=256)\n",
    "        self.fc3 = nn.Linear(in_features=256, out_features=128)\n",
    "        # self.bn3 = nn.BatchNorm1d(num_features=128)\n",
    "        self.fc4 = nn.Linear(in_features=128, out_features=64)\n",
    "        self.bn4 = nn.BatchNorm1d(num_features=64)\n",
    "        self.fc5 = nn.Linear(in_features=64, out_features=32)\n",
    "        self.bn5 = nn.BatchNorm1d(num_features=32)\n",
    "        self.fc6 = nn.Linear(in_features=32, out_features=1) \n",
    "        self.relu = nn.LeakyReLU() # activation layer\n",
    "        self.dropout20 = nn.Dropout(p=0.2)\n",
    "        self.dropout40 = nn.Dropout(p=0.4)\n",
    "\n",
    "\n",
    "    def forward(self, x):\n",
    "        x = self.dropout20(self.relu(self.fc1(x)))\n",
    "        x = self.relu(self.bn2(self.fc2(x)))\n",
    "        x = self.dropout20(self.relu(self.fc3(x)))\n",
    "        x = self.relu(self.bn4(self.fc4(x)))\n",
    "        x = self.dropout40(self.relu(self.bn5(self.fc5(x))))\n",
    "        x = self.fc6(x)\n",
    "        return x"
   ],
   "metadata": {
    "collapsed": false,
    "ExecuteTime": {
     "end_time": "2023-11-21T15:03:06.744621200Z",
     "start_time": "2023-11-21T15:03:06.649908300Z"
    }
   },
   "id": "66884662e6f4483e"
  },
  {
   "cell_type": "code",
   "execution_count": 22,
   "outputs": [
    {
     "data": {
      "text/plain": "DNNModel(\n  (fc1): Linear(in_features=115, out_features=512, bias=True)\n  (fc2): Linear(in_features=512, out_features=256, bias=True)\n  (bn2): BatchNorm1d(256, eps=1e-05, momentum=0.1, affine=True, track_running_stats=True)\n  (fc3): Linear(in_features=256, out_features=128, bias=True)\n  (fc4): Linear(in_features=128, out_features=64, bias=True)\n  (bn4): BatchNorm1d(64, eps=1e-05, momentum=0.1, affine=True, track_running_stats=True)\n  (fc5): Linear(in_features=64, out_features=32, bias=True)\n  (bn5): BatchNorm1d(32, eps=1e-05, momentum=0.1, affine=True, track_running_stats=True)\n  (fc6): Linear(in_features=32, out_features=1, bias=True)\n  (relu): LeakyReLU(negative_slope=0.01)\n  (dropout20): Dropout(p=0.2, inplace=False)\n  (dropout40): Dropout(p=0.4, inplace=False)\n)"
     },
     "execution_count": 22,
     "metadata": {},
     "output_type": "execute_result"
    }
   ],
   "source": [
    "dnn_model = DNNModel().to(device)\n",
    "dnn_model"
   ],
   "metadata": {
    "collapsed": false,
    "ExecuteTime": {
     "end_time": "2023-11-21T15:03:06.823262Z",
     "start_time": "2023-11-21T15:03:06.665646400Z"
    }
   },
   "id": "682b486dbf2ddbf1"
  },
  {
   "cell_type": "code",
   "execution_count": 23,
   "outputs": [],
   "source": [
    "from tqdm.auto import tqdm\n",
    "epochs = 1000\n",
    "lr_list = []\n",
    "def train(model, train_loader, valid_loader, criterion, optimizer, early_stopper, lr_scheduler=None, epochs=100, save_file=data_path+'model_state_dict.pth'):\n",
    "    train_epoch_loss = []\n",
    "    valid_epoch_loss = []\n",
    "    for epoch in range(epochs):\n",
    "    \n",
    "        train_iter_loss = []\n",
    "        model.train()\n",
    "        for idx, (stocks, movements) in enumerate(train_loader):\n",
    "            stocks = stocks.to(device)\n",
    "            movements = movements.to(device)\n",
    "            outputs = model(stocks)\n",
    "            loss = criterion(outputs, movements)\n",
    "            train_iter_loss.append(loss.item())\n",
    "            optimizer.zero_grad() \n",
    "            loss.backward()\n",
    "            optimizer.step()\n",
    "            if lr_scheduler:\n",
    "                lr_scheduler.step()\n",
    "            if ((epoch+1)*idx)%10 == 0:\n",
    "                lr_list.append(optimizer.param_groups[0]['lr'])\n",
    "        print(f'Epoch [{epoch+1}/{epochs}] - Train loss : {sum(train_iter_loss)/len(train_loader):.4f}')\n",
    "        train_epoch_loss.append(sum(train_iter_loss)/len(train_loader))\n",
    "    \n",
    "        model.eval()\n",
    "        valid_iter_loss = []\n",
    "        for idx, (stocks, movements) in enumerate(valid_loader):\n",
    "            with torch.no_grad():\n",
    "                stocks = stocks.to(device)\n",
    "                movements = movements.to(device)\n",
    "                outputs = model(stocks)\n",
    "                loss = criterion(outputs, movements)\n",
    "                valid_iter_loss.append(loss.item())\n",
    "        print(f'Epoch [{epoch+1}/{epochs}] - Valid loss : {sum(valid_iter_loss)/len(valid_loader):.4f}')\n",
    "        valid_epoch_loss.append(sum(valid_iter_loss)/len(valid_loader))\n",
    "        if early_stopper.early_stop(sum(valid_iter_loss)/len(valid_loader), model):\n",
    "            torch.save(early_stopper.get_best_model().state_dict(), save_file)\n",
    "            break\n",
    "        gc.collect()\n",
    "    return torch.load(save_file), train_epoch_loss, valid_epoch_loss"
   ],
   "metadata": {
    "collapsed": false,
    "ExecuteTime": {
     "end_time": "2023-11-21T15:03:06.838933Z",
     "start_time": "2023-11-21T15:03:06.823262Z"
    }
   },
   "id": "36ec4e3f57d2817c"
  },
  {
   "cell_type": "code",
   "execution_count": 24,
   "outputs": [],
   "source": [
    "# 손실 함수\n",
    "criterion = nn.L1Loss()"
   ],
   "metadata": {
    "collapsed": false,
    "ExecuteTime": {
     "end_time": "2023-11-21T15:03:06.891514600Z",
     "start_time": "2023-11-21T15:03:06.838933Z"
    }
   },
   "id": "9b37fe60382ec9a9"
  },
  {
   "cell_type": "code",
   "execution_count": 25,
   "outputs": [],
   "source": [
    "# 옵티마이저\n",
    "# optimizer = torch.optim.SGD(dnn_model.parameters(), lr=0.1, momentum=0.9, weight_decay=1e-5)\n",
    "optimizer = torch.optim.Adam(dnn_model.parameters(), lr=0)"
   ],
   "metadata": {
    "collapsed": false,
    "ExecuteTime": {
     "end_time": "2023-11-21T15:03:06.907144700Z",
     "start_time": "2023-11-21T15:03:06.854949300Z"
    }
   },
   "id": "a77321d3ac8d5d26"
  },
  {
   "cell_type": "code",
   "execution_count": 26,
   "outputs": [],
   "source": [
    "# lr_scheduler = CosineAnnealingWarmupRestarts(optimizer, first_cycle_steps=100, cycle_mult=1.0, max_lr=0.1, min_lr=0.001, warmup_steps=20, gamma=0.5)\n",
    "# lr_scheduler = CosineAnnealingWarmUpRestarts(optimizer, T_0=100, T_mult=1, eta_max=0.1,  T_up=10, gamma=0.5)\n",
    "lr_scheduler = CosineAnnealingWarmUpRestarts(optimizer, T_0=len(train_loader)*10, T_mult=2, eta_max=0.1,  T_up=50, gamma=0.5)\n",
    "# from torch.optim.lr_scheduler import CosineAnnealingWarmRestarts\n",
    "# lr_scheduler = CosineAnnealingWarmRestarts(optimizer=optimizer, T_0=150,T_mult=1,eta_min=0.001)\n",
    "# lr_scheduler = None"
   ],
   "metadata": {
    "collapsed": false,
    "ExecuteTime": {
     "end_time": "2023-11-21T15:03:06.932745200Z",
     "start_time": "2023-11-21T15:03:06.870579Z"
    }
   },
   "id": "33361b5ca9a2728b"
  },
  {
   "cell_type": "code",
   "execution_count": 27,
   "outputs": [],
   "source": [
    "early_stopper = EarlyStopper(patience=15, min_delta=0.0001)"
   ],
   "metadata": {
    "collapsed": false,
    "ExecuteTime": {
     "end_time": "2023-11-21T15:03:06.932745200Z",
     "start_time": "2023-11-21T15:03:06.881126300Z"
    }
   },
   "id": "4f7139ac0cc15f04"
  },
  {
   "cell_type": "code",
   "execution_count": 28,
   "outputs": [
    {
     "name": "stdout",
     "output_type": "stream",
     "text": [
      "Epoch [1/1000] - Train loss : 6.3122\n",
      "Epoch [1/1000] - Valid loss : 6.2933\n",
      "New best loss: 6.293296\n",
      "Epoch [2/1000] - Train loss : 6.3015\n",
      "Epoch [2/1000] - Valid loss : 6.2620\n",
      "New best loss: 6.261973\n",
      "Epoch [3/1000] - Train loss : 6.2903\n",
      "Epoch [3/1000] - Valid loss : 6.2547\n",
      "New best loss: 6.254741\n",
      "Epoch [4/1000] - Train loss : 6.2785\n",
      "Epoch [4/1000] - Valid loss : 6.2437\n",
      "New best loss: 6.243737\n",
      "Epoch [5/1000] - Train loss : 6.2697\n",
      "Epoch [5/1000] - Valid loss : 6.2389\n",
      "New best loss: 6.238904\n",
      "Epoch [6/1000] - Train loss : 6.2605\n",
      "Epoch [6/1000] - Valid loss : 6.2311\n",
      "New best loss: 6.231148\n",
      "Epoch [7/1000] - Train loss : 6.2520\n",
      "Epoch [7/1000] - Valid loss : 6.2260\n",
      "New best loss: 6.226044\n",
      "Epoch [8/1000] - Train loss : 6.2439\n",
      "Epoch [8/1000] - Valid loss : 6.2191\n",
      "New best loss: 6.219138\n",
      "Epoch [9/1000] - Train loss : 6.2385\n",
      "Epoch [9/1000] - Valid loss : 6.2176\n",
      "New best loss: 6.217611\n",
      "Epoch [10/1000] - Train loss : 6.2352\n",
      "Epoch [10/1000] - Valid loss : 6.2169\n",
      "New best loss: 6.216883\n",
      "Epoch [11/1000] - Train loss : 6.2502\n",
      "Epoch [11/1000] - Valid loss : 6.2264\n",
      "Epoch [12/1000] - Train loss : 6.2489\n",
      "Epoch [12/1000] - Valid loss : 6.2216\n",
      "Epoch [13/1000] - Train loss : 6.2455\n",
      "Epoch [13/1000] - Valid loss : 6.2490\n",
      "Epoch [14/1000] - Train loss : 6.2418\n",
      "Epoch [14/1000] - Valid loss : 6.2206\n",
      "Epoch [15/1000] - Train loss : 6.2391\n",
      "Epoch [15/1000] - Valid loss : 6.2132\n",
      "New best loss: 6.213213\n",
      "Epoch [16/1000] - Train loss : 6.2351\n",
      "Epoch [16/1000] - Valid loss : 6.2122\n",
      "New best loss: 6.212158\n",
      "Epoch [17/1000] - Train loss : 6.2316\n",
      "Epoch [17/1000] - Valid loss : 6.2078\n",
      "New best loss: 6.207788\n",
      "Epoch [18/1000] - Train loss : 6.2274\n",
      "Epoch [18/1000] - Valid loss : 6.2076\n",
      "New best loss: 6.207644\n",
      "Epoch [19/1000] - Train loss : 6.2238\n",
      "Epoch [19/1000] - Valid loss : 6.2068\n",
      "New best loss: 6.206788\n",
      "Epoch [20/1000] - Train loss : 6.2205\n",
      "Epoch [20/1000] - Valid loss : 6.2046\n",
      "New best loss: 6.204629\n",
      "Epoch [21/1000] - Train loss : 6.2168\n",
      "Epoch [21/1000] - Valid loss : 6.2003\n",
      "New best loss: 6.200326\n",
      "Epoch [22/1000] - Train loss : 6.2129\n",
      "Epoch [22/1000] - Valid loss : 6.2002\n",
      "New best loss: 6.200219\n",
      "Epoch [23/1000] - Train loss : 6.2094\n",
      "Epoch [23/1000] - Valid loss : 6.1966\n",
      "New best loss: 6.196608\n",
      "Epoch [24/1000] - Train loss : 6.2054\n",
      "Epoch [24/1000] - Valid loss : 6.1953\n",
      "New best loss: 6.195283\n",
      "Epoch [25/1000] - Train loss : 6.2031\n",
      "Epoch [25/1000] - Valid loss : 6.1978\n",
      "Epoch [26/1000] - Train loss : 6.1998\n",
      "Epoch [26/1000] - Valid loss : 6.1953\n",
      "Epoch [27/1000] - Train loss : 6.1972\n",
      "Epoch [27/1000] - Valid loss : 6.1935\n",
      "New best loss: 6.193531\n",
      "Epoch [28/1000] - Train loss : 6.1963\n",
      "Epoch [28/1000] - Valid loss : 6.1933\n",
      "New best loss: 6.193282\n",
      "Epoch [29/1000] - Train loss : 6.1946\n",
      "Epoch [29/1000] - Valid loss : 6.1933\n",
      "Epoch [30/1000] - Train loss : 6.1950\n",
      "Epoch [30/1000] - Valid loss : 6.1945\n",
      "Epoch [31/1000] - Train loss : 6.2071\n",
      "Epoch [31/1000] - Valid loss : 6.1995\n",
      "Epoch [32/1000] - Train loss : 6.2080\n",
      "Epoch [32/1000] - Valid loss : 6.1982\n",
      "Epoch [33/1000] - Train loss : 6.2072\n",
      "Epoch [33/1000] - Valid loss : 6.2001\n",
      "Epoch [34/1000] - Train loss : 6.2061\n",
      "Epoch [34/1000] - Valid loss : 6.1984\n",
      "Epoch [35/1000] - Train loss : 6.2045\n",
      "Epoch [35/1000] - Valid loss : 6.1961\n",
      "Epoch [36/1000] - Train loss : 6.2025\n",
      "Epoch [36/1000] - Valid loss : 6.1987\n",
      "Epoch [37/1000] - Train loss : 6.2004\n",
      "Epoch [37/1000] - Valid loss : 6.1952\n",
      "Epoch [38/1000] - Train loss : 6.1992\n",
      "Epoch [38/1000] - Valid loss : 6.1953\n",
      "Epoch [39/1000] - Train loss : 6.1976\n",
      "Epoch [39/1000] - Valid loss : 6.1946\n",
      "Epoch [40/1000] - Train loss : 6.1961\n",
      "Epoch [40/1000] - Valid loss : 6.1946\n",
      "Epoch [41/1000] - Train loss : 6.1944\n",
      "Epoch [41/1000] - Valid loss : 6.2142\n",
      "Epoch [42/1000] - Train loss : 6.1923\n",
      "Epoch [42/1000] - Valid loss : 6.1935\n",
      "Epoch [43/1000] - Train loss : 6.1907\n",
      "Epoch [43/1000] - Valid loss : 6.1904\n",
      "New best loss: 6.190446\n",
      "Epoch [44/1000] - Train loss : 6.1889\n",
      "Epoch [44/1000] - Valid loss : 6.1934\n",
      "Epoch [45/1000] - Train loss : 6.1868\n",
      "Epoch [45/1000] - Valid loss : 6.1896\n",
      "New best loss: 6.189601\n",
      "Epoch [46/1000] - Train loss : 6.1842\n",
      "Epoch [46/1000] - Valid loss : 6.1888\n",
      "New best loss: 6.188756\n",
      "Epoch [47/1000] - Train loss : 6.1831\n",
      "Epoch [47/1000] - Valid loss : 6.1876\n",
      "New best loss: 6.187628\n",
      "Epoch [48/1000] - Train loss : 6.1811\n",
      "Epoch [48/1000] - Valid loss : 6.1888\n",
      "Epoch [49/1000] - Train loss : 6.1795\n",
      "Epoch [49/1000] - Valid loss : 6.1868\n",
      "New best loss: 6.186838\n",
      "Epoch [50/1000] - Train loss : 6.1771\n",
      "Epoch [50/1000] - Valid loss : 6.1853\n",
      "New best loss: 6.185269\n",
      "Epoch [51/1000] - Train loss : 6.1761\n",
      "Epoch [51/1000] - Valid loss : 6.1860\n",
      "Epoch [52/1000] - Train loss : 6.1734\n",
      "Epoch [52/1000] - Valid loss : 6.1846\n",
      "New best loss: 6.184605\n",
      "Epoch [53/1000] - Train loss : 6.1754\n",
      "Epoch [53/1000] - Valid loss : 6.1839\n",
      "New best loss: 6.183882\n",
      "Epoch [54/1000] - Train loss : 6.1703\n",
      "Epoch [54/1000] - Valid loss : 6.1827\n",
      "New best loss: 6.182728\n",
      "Epoch [55/1000] - Train loss : 6.1702\n",
      "Epoch [55/1000] - Valid loss : 6.1832\n",
      "Epoch [56/1000] - Train loss : 6.1672\n",
      "Epoch [56/1000] - Valid loss : 6.1826\n",
      "New best loss: 6.182582\n",
      "Epoch [57/1000] - Train loss : 6.1663\n",
      "Epoch [57/1000] - Valid loss : 6.1846\n",
      "Epoch [58/1000] - Train loss : 6.1647\n",
      "Epoch [58/1000] - Valid loss : 6.1821\n",
      "New best loss: 6.182089\n",
      "Epoch [59/1000] - Train loss : 6.1636\n",
      "Epoch [59/1000] - Valid loss : 6.1808\n",
      "New best loss: 6.180822\n",
      "Epoch [60/1000] - Train loss : 6.1626\n",
      "Epoch [60/1000] - Valid loss : 6.1811\n",
      "Epoch [61/1000] - Train loss : 6.1615\n",
      "Epoch [61/1000] - Valid loss : 6.1867\n",
      "Epoch [62/1000] - Train loss : 6.1599\n",
      "Epoch [62/1000] - Valid loss : 6.1804\n",
      "New best loss: 6.180372\n",
      "Epoch [63/1000] - Train loss : 6.1598\n",
      "Epoch [63/1000] - Valid loss : 6.1813\n",
      "Epoch [64/1000] - Train loss : 6.1591\n",
      "Epoch [64/1000] - Valid loss : 6.1808\n",
      "Epoch [65/1000] - Train loss : 6.1582\n",
      "Epoch [65/1000] - Valid loss : 6.1800\n",
      "New best loss: 6.179972\n",
      "Epoch [66/1000] - Train loss : 6.1573\n",
      "Epoch [66/1000] - Valid loss : 6.1798\n",
      "New best loss: 6.179847\n",
      "Epoch [67/1000] - Train loss : 6.1558\n",
      "Epoch [67/1000] - Valid loss : 6.1796\n",
      "New best loss: 6.179602\n",
      "Epoch [68/1000] - Train loss : 6.1564\n",
      "Epoch [68/1000] - Valid loss : 6.1802\n",
      "Epoch [69/1000] - Train loss : 6.1561\n",
      "Epoch [69/1000] - Valid loss : 6.1795\n",
      "New best loss: 6.179545\n",
      "Epoch [70/1000] - Train loss : 6.1570\n",
      "Epoch [70/1000] - Valid loss : 6.1828\n",
      "Epoch [71/1000] - Train loss : 6.1680\n",
      "Epoch [71/1000] - Valid loss : 6.1846\n",
      "Epoch [72/1000] - Train loss : 6.1683\n",
      "Epoch [72/1000] - Valid loss : 6.1835\n",
      "Epoch [73/1000] - Train loss : 6.1673\n",
      "Epoch [73/1000] - Valid loss : 6.1842\n",
      "Epoch [74/1000] - Train loss : 6.1667\n",
      "Epoch [74/1000] - Valid loss : 6.1814\n",
      "Epoch [75/1000] - Train loss : 6.1659\n",
      "Epoch [75/1000] - Valid loss : 6.1824\n",
      "Epoch [76/1000] - Train loss : 6.1651\n",
      "Epoch [76/1000] - Valid loss : 6.1837\n",
      "Epoch [77/1000] - Train loss : 6.1639\n",
      "Epoch [77/1000] - Valid loss : 6.1831\n",
      "Epoch [78/1000] - Train loss : 6.1640\n",
      "Epoch [78/1000] - Valid loss : 6.1830\n",
      "Epoch [79/1000] - Train loss : 6.1630\n",
      "Epoch [79/1000] - Valid loss : 6.1883\n",
      "Epoch [80/1000] - Train loss : 6.1621\n",
      "Epoch [80/1000] - Valid loss : 6.1826\n",
      "Epoch [81/1000] - Train loss : 6.1607\n",
      "Epoch [81/1000] - Valid loss : 6.1821\n",
      "Epoch [82/1000] - Train loss : 6.1614\n",
      "Epoch [82/1000] - Valid loss : 6.1814\n",
      "Epoch [83/1000] - Train loss : 6.1592\n",
      "Epoch [83/1000] - Valid loss : 6.1822\n",
      "Epoch [84/1000] - Train loss : 6.1583\n",
      "Epoch [84/1000] - Valid loss : 6.1800\n"
     ]
    },
    {
     "data": {
      "text/plain": "<All keys matched successfully>"
     },
     "execution_count": 28,
     "metadata": {},
     "output_type": "execute_result"
    }
   ],
   "source": [
    "model_state_dict, train_losses, valid_losses = train(\n",
    "    model=dnn_model, train_loader=train_loader, valid_loader=valid_loader, criterion=criterion, \n",
    "    optimizer=optimizer, early_stopper=early_stopper, lr_scheduler=lr_scheduler, epochs=epochs\n",
    ")\n",
    "dnn_model.load_state_dict(model_state_dict)"
   ],
   "metadata": {
    "collapsed": false,
    "ExecuteTime": {
     "end_time": "2023-11-21T16:00:04.709532Z",
     "start_time": "2023-11-21T15:03:06.891514600Z"
    }
   },
   "id": "cb700a42baacce3c"
  },
  {
   "cell_type": "code",
   "execution_count": 29,
   "outputs": [
    {
     "data": {
      "text/plain": "<Axes: >"
     },
     "execution_count": 29,
     "metadata": {},
     "output_type": "execute_result"
    },
    {
     "data": {
      "text/plain": "<Figure size 640x480 with 1 Axes>",
      "image/png": "[encoded data removed]"
     },
     "metadata": {},
     "output_type": "display_data"
    }
   ],
   "source": [
    "sns.lineplot(lr_list)"
   ],
   "metadata": {
    "collapsed": false,
    "ExecuteTime": {
     "end_time": "2023-11-21T16:00:05.027998700Z",
     "start_time": "2023-11-21T16:00:04.704532Z"
    }
   },
   "id": "463766d57890b029"
  },
  {
   "cell_type": "code",
   "execution_count": 30,
   "outputs": [
    {
     "data": {
      "text/plain": "<Axes: >"
     },
     "execution_count": 30,
     "metadata": {},
     "output_type": "execute_result"
    },
    {
     "data": {
      "text/plain": "<Figure size 640x480 with 1 Axes>",
      "image/png": "[encoded data removed]"
     },
     "metadata": {},
     "output_type": "display_data"
    }
   ],
   "source": [
    "sns.lineplot(train_losses)\n",
    "sns.lineplot(valid_losses)"
   ],
   "metadata": {
    "collapsed": false,
    "ExecuteTime": {
     "end_time": "2023-11-21T16:00:05.313337300Z",
     "start_time": "2023-11-21T16:00:05.027998700Z"
    }
   },
   "id": "c4f3d734a20646c6"
  },
  {
   "cell_type": "code",
   "execution_count": 31,
   "outputs": [
    {
     "name": "stdout",
     "output_type": "stream",
     "text": [
      "----------------------------------------------------------------\n",
      "        Layer (type)               Output Shape         Param #\n",
      "================================================================\n",
      "            Linear-1                  [-1, 512]          59,392\n",
      "         LeakyReLU-2                  [-1, 512]               0\n",
      "           Dropout-3                  [-1, 512]               0\n",
      "            Linear-4                  [-1, 256]         131,328\n",
      "       BatchNorm1d-5                  [-1, 256]             512\n",
      "         LeakyReLU-6                  [-1, 256]               0\n",
      "            Linear-7                  [-1, 128]          32,896\n",
      "         LeakyReLU-8                  [-1, 128]               0\n",
      "           Dropout-9                  [-1, 128]               0\n",
      "           Linear-10                   [-1, 64]           8,256\n",
      "      BatchNorm1d-11                   [-1, 64]             128\n",
      "        LeakyReLU-12                   [-1, 64]               0\n",
      "           Linear-13                   [-1, 32]           2,080\n",
      "      BatchNorm1d-14                   [-1, 32]              64\n",
      "        LeakyReLU-15                   [-1, 32]               0\n",
      "          Dropout-16                   [-1, 32]               0\n",
      "           Linear-17                    [-1, 1]              33\n",
      "================================================================\n",
      "Total params: 234,689\n",
      "Trainable params: 234,689\n",
      "Non-trainable params: 0\n",
      "----------------------------------------------------------------\n",
      "Input size (MB): 0.00\n",
      "Forward/backward pass size (MB): 0.02\n",
      "Params size (MB): 0.90\n",
      "Estimated Total Size (MB): 0.92\n",
      "----------------------------------------------------------------\n"
     ]
    }
   ],
   "source": [
    "from torchsummary import summary\n",
    "\n",
    "summary(dnn_model, input_size=(df_train_feats.shape[1],))"
   ],
   "metadata": {
    "collapsed": false,
    "ExecuteTime": {
     "end_time": "2023-11-21T16:00:05.334605200Z",
     "start_time": "2023-11-21T16:00:05.290223600Z"
    }
   },
   "id": "c2494aa4cf160ef6"
  },
  {
   "cell_type": "code",
   "execution_count": 31,
   "outputs": [],
   "source": [],
   "metadata": {
    "collapsed": false,
    "ExecuteTime": {
     "end_time": "2023-11-21T16:00:05.419912700Z",
     "start_time": "2023-11-21T16:00:05.332596500Z"
    }
   },
   "id": "7b62a3a2c10307a"
  }
 ],
 "metadata": {
  "kernelspec": {
   "display_name": "Python 3",
   "language": "python",
   "name": "python3"
  },
  "language_info": {
   "codemirror_mode": {
    "name": "ipython",
    "version": 2
   },
   "file_extension": ".py",
   "mimetype": "text/x-python",
   "name": "python",
   "nbconvert_exporter": "python",
   "pygments_lexer": "ipython2",
   "version": "2.7.6"
  }
 },
 "nbformat": 4,
 "nbformat_minor": 5
}
