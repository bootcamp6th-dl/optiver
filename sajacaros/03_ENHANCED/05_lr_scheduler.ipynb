{
 "cells": [
  {
   "cell_type": "code",
   "execution_count": 1,
   "id": "initial_id",
   "metadata": {
    "collapsed": true,
    "ExecuteTime": {
     "end_time": "2023-11-21T12:13:23.073657200Z",
     "start_time": "2023-11-21T12:13:23.067489200Z"
    }
   },
   "outputs": [],
   "source": [
    "# https://www.kaggle.com/code/zulqarnainali/explained-singel-model-optiver"
   ]
  },
  {
   "cell_type": "code",
   "execution_count": 2,
   "outputs": [],
   "source": [
    "import gc  # Garbage collection for memory management\n",
    "import os  # Operating system-related functions\n",
    "import time  # Time-related functions\n",
    "import warnings  # Handling warnings\n",
    "from itertools import combinations  # For creating combinations of elements\n",
    "from warnings import simplefilter  # Simplifying warning handling\n",
    "\n",
    "# 📦 Importing machine learning libraries\n",
    "import joblib  # For saving and loading models\n",
    "import numpy as np  # Numerical operations\n",
    "import pandas as pd  # Data manipulation and analysis\n",
    "from sklearn.metrics import mean_absolute_error  # Metric for evaluation\n",
    "from sklearn.model_selection import KFold, TimeSeriesSplit  # Cross-validation techniques\n",
    "\n",
    "import seaborn as sns\n",
    "import matplotlib.pyplot as plt"
   ],
   "metadata": {
    "collapsed": false,
    "ExecuteTime": {
     "end_time": "2023-11-21T12:13:23.442942700Z",
     "start_time": "2023-11-21T12:13:23.073657200Z"
    }
   },
   "id": "4b007a636cc52874"
  },
  {
   "cell_type": "code",
   "execution_count": 3,
   "outputs": [],
   "source": [
    "# 🤐 Disable warnings to keep the code clean\n",
    "warnings.filterwarnings(\"ignore\")\n",
    "simplefilter(action=\"ignore\", category=pd.errors.PerformanceWarning)\n",
    "\n",
    "# 📊 Define flags and variables\n",
    "is_offline = False  # Flag for online/offline mode\n",
    "is_train = True  # Flag for training mode\n",
    "is_infer = False  # Flag for inference mode"
   ],
   "metadata": {
    "collapsed": false,
    "ExecuteTime": {
     "end_time": "2023-11-21T12:13:23.455611700Z",
     "start_time": "2023-11-21T12:13:23.442942700Z"
    }
   },
   "id": "ce46cc9508c97d21"
  },
  {
   "cell_type": "code",
   "execution_count": 4,
   "outputs": [
    {
     "name": "stdout",
     "output_type": "stream",
     "text": [
      "far : 1.0017128691026516, near : 0.999660106068129\n"
     ]
    },
    {
     "data": {
      "text/plain": "(5237760, 17)"
     },
     "execution_count": 4,
     "metadata": {},
     "output_type": "execute_result"
    }
   ],
   "source": [
    "# 📂 Read the dataset from a CSV file using Pandas\n",
    "data_path = '../../data/'\n",
    "df = pd.read_csv(data_path + 'train.csv')\n",
    "\n",
    "# 🧹 Remove rows with missing values in the \"target\" column\n",
    "df = df.dropna(subset=[\"target\"])\n",
    "# null 값 처리\n",
    "far_price_mean = df['far_price'].mean()\n",
    "near_price_mean = df['near_price'].mean()\n",
    "print(f'far : {far_price_mean}, near : {near_price_mean}')\n",
    "# df['far_price'] = df['far_price'].fillna(far_price_mean)\n",
    "# df['near_price'] = df['near_price'].fillna(near_price_mean)\n",
    "df['far_price'] = df['far_price'].fillna(1)\n",
    "df['near_price'] = df['near_price'].fillna(0)\n",
    "\n",
    "df = df.dropna().reset_index(drop=True)\n",
    "\n",
    "# 📏 Get the shape of the DataFrame (number of rows and columns)\n",
    "df.shape"
   ],
   "metadata": {
    "collapsed": false,
    "ExecuteTime": {
     "end_time": "2023-11-21T12:13:37.256855800Z",
     "start_time": "2023-11-21T12:13:23.449298500Z"
    }
   },
   "id": "20287b05cdfd3d11"
  },
  {
   "cell_type": "code",
   "execution_count": 5,
   "outputs": [],
   "source": [
    "# 🧹 Function to reduce memory usage of a Pandas DataFrame\n",
    "def reduce_mem_usage(df_, verbose=0):\n",
    "    \"\"\"\n",
    "    Iterate through all numeric columns of a dataframe and modify the data type\n",
    "    to reduce memory usage.\n",
    "    \"\"\"\n",
    "    \n",
    "    # 📏 Calculate the initial memory usage of the DataFrame\n",
    "    start_mem = df_.memory_usage().sum() / 1024**2\n",
    "\n",
    "    # 🔄 Iterate through each column in the DataFrame\n",
    "    for col in df_.columns:\n",
    "        col_type = df_[col].dtype\n",
    "\n",
    "        # Check if the column's data type is not 'object' (i.e., numeric)\n",
    "        if col_type != object:\n",
    "            c_min = df_[col].min()\n",
    "            c_max = df_[col].max()\n",
    "            \n",
    "            # Check if the column's data type is an integer\n",
    "            if str(col_type)[:3] == \"int\":\n",
    "                if c_min > np.iinfo(np.int8).min and c_max < np.iinfo(np.int8).max:\n",
    "                    df_[col] = df_[col].astype(np.int8)\n",
    "                elif c_min > np.iinfo(np.int16).min and c_max < np.iinfo(np.int16).max:\n",
    "                    df_[col] = df_[col].astype(np.int16)\n",
    "                elif c_min > np.iinfo(np.int32).min and c_max < np.iinfo(np.int32).max:\n",
    "                    df_[col] = df_[col].astype(np.int32)\n",
    "                elif c_min > np.iinfo(np.int64).min and c_max < np.iinfo(np.int64).max:\n",
    "                    df_[col] = df_[col].astype(np.int64)\n",
    "            else:\n",
    "                # Check if the column's data type is a float\n",
    "                if c_min > np.finfo(np.float16).min and c_max < np.finfo(np.float16).max:\n",
    "                    df_[col] = df_[col].astype(np.float32)\n",
    "                elif c_min > np.finfo(np.float32).min and c_max < np.finfo(np.float32).max:\n",
    "                    df_[col] = df_[col].astype(np.float32)\n",
    "                else:\n",
    "                    df_[col] = df_[col].astype(np.float32)\n",
    "\n",
    "    # ℹ️ Provide memory optimization information if 'verbose' is True\n",
    "    if verbose:\n",
    "        logger.info(f\"Memory usage of dataframe is {start_mem:.2f} MB\")\n",
    "        end_mem = df_.memory_usage().sum() / 1024**2\n",
    "        logger.info(f\"Memory usage after optimization is: {end_mem:.2f} MB\")\n",
    "        decrease = 100 * (start_mem - end_mem) / start_mem\n",
    "        logger.info(f\"Decreased by {decrease:.2f}%\")\n",
    "\n",
    "    # 🔄 Return the DataFrame with optimized memory usage\n",
    "    return df_"
   ],
   "metadata": {
    "collapsed": false,
    "ExecuteTime": {
     "end_time": "2023-11-21T12:13:37.526394400Z",
     "start_time": "2023-11-21T12:13:37.272489800Z"
    }
   },
   "id": "4bb82af2e0136e7e"
  },
  {
   "cell_type": "markdown",
   "source": [
    "# Parallel Triplet Imbalance Calculation"
   ],
   "metadata": {
    "collapsed": false
   },
   "id": "b184ea28544b1738"
  },
  {
   "cell_type": "code",
   "execution_count": 6,
   "outputs": [],
   "source": [
    "# 🏎️ Import Numba for just-in-time (JIT) compilation and parallel processing\n",
    "from numba import njit, prange\n",
    "\n",
    "eps = 1e-8\n",
    "\n",
    "@njit(parallel=True)\n",
    "def compute_triplet_imbalance(df_values, comb_indices):\n",
    "    num_rows = df_values.shape[0]\n",
    "    num_combinations = len(comb_indices)\n",
    "    imbalance_features = np.empty((num_rows, num_combinations))\n",
    "    for i in prange(num_combinations):\n",
    "        a, b, c = comb_indices[i]\n",
    "        for j in range(num_rows):\n",
    "            max_val = max(df_values[j, a], df_values[j, b], df_values[j, c])\n",
    "            min_val = min(df_values[j, a], df_values[j, b], df_values[j, c])\n",
    "            mid_val = df_values[j, a] + df_values[j, b] + df_values[j, c] - min_val - max_val\n",
    "            \n",
    "            # todo\n",
    "            if mid_val == min_val:\n",
    "                imbalance_features[j, i] = np.nan\n",
    "            else:\n",
    "                imbalance_features[j, i] = (max_val - mid_val) / (mid_val - min_val)\n",
    "\n",
    "    return imbalance_features\n",
    "\n",
    "def calculate_triplet_imbalance_numba(price, df_):\n",
    "    df_values = df_[price].values\n",
    "    comb_indices = [(price.index(a), price.index(b), price.index(c)) for a, b, c in combinations(price, 3)]\n",
    "    features_array = compute_triplet_imbalance(df_values, comb_indices)\n",
    "    columns = [f\"{a}_{b}_{c}_imb2\" for a, b, c in combinations(price, 3)]\n",
    "    features = pd.DataFrame(features_array, columns=columns)\n",
    "    return features"
   ],
   "metadata": {
    "collapsed": false,
    "ExecuteTime": {
     "end_time": "2023-11-21T12:13:38.070867900Z",
     "start_time": "2023-11-21T12:13:37.542020Z"
    }
   },
   "id": "e0780db33a4d1df1"
  },
  {
   "cell_type": "markdown",
   "source": [
    "# Feature Generation Functions"
   ],
   "metadata": {
    "collapsed": false
   },
   "id": "ebf624355da2b062"
  },
  {
   "cell_type": "code",
   "execution_count": 7,
   "outputs": [],
   "source": [
    "def imbalance_features(df_:pd.DataFrame):\n",
    "    # Define lists of price and size-related column names\n",
    "    prices = [\"reference_price\", \"far_price\", \"near_price\", \"ask_price\", \"bid_price\", \"wap\"]\n",
    "    sizes = [\"matched_size\", \"bid_size\", \"ask_size\", \"imbalance_size\"]\n",
    "    df_[\"volume\"] = df_.eval(\"ask_size + bid_size\")\n",
    "    df_[\"mid_price\"] = df_.eval(\"(ask_price + bid_price) / 2\")\n",
    "    df_[\"liquidity_imbalance\"] = df_.eval(\"(bid_size-ask_size)/(bid_size+ask_size)\")\n",
    "    df_[\"matched_imbalance\"] = df_.eval(\"(imbalance_size-matched_size)/(matched_size+imbalance_size)\")\n",
    "    df_[\"size_imbalance\"] = df_.eval(\"bid_size / ask_size\")\n",
    "\n",
    "    for c in combinations(prices, 2):\n",
    "        df_[f\"{c[0]}_{c[1]}_imb\"] = df_.eval(f\"({c[0]} - {c[1]})/({c[0]} + {c[1]})\")\n",
    "\n",
    "    for c in [['ask_price', 'bid_price', 'wap', 'reference_price'], sizes]:\n",
    "        triplet_feature = calculate_triplet_imbalance_numba(c, df_)\n",
    "        df_[triplet_feature.columns] = triplet_feature.values\n",
    "   \n",
    "    df_[\"imbalance_momentum\"] = df_.groupby(['stock_id'])['imbalance_size'].diff(periods=1) / df_['matched_size']\n",
    "    df_[\"price_spread\"] = df_[\"ask_price\"] - df_[\"bid_price\"]\n",
    "    df_[\"spread_intensity\"] = df_.groupby(['stock_id'])['price_spread'].diff()\n",
    "    df_['price_pressure'] = df_['imbalance_size'] * (df_['ask_price'] - df_['bid_price'])\n",
    "    df_['market_urgency'] = df_['price_spread'] * df_['liquidity_imbalance']\n",
    "    df_['depth_pressure'] = (df_['ask_size'] - df_['bid_size']) * (df_['far_price'] - df_['near_price'])\n",
    "    \n",
    "    # Calculate various statistical aggregation features\n",
    "    for func in [\"mean\", \"std\", \"skew\", \"kurt\"]:\n",
    "        df_[f\"all_prices_{func}\"] = df_[prices].agg(func, axis=1)\n",
    "        df_[f\"all_sizes_{func}\"] = df_[sizes].agg(func, axis=1)\n",
    "        \n",
    "\n",
    "    for col in ['matched_size', 'imbalance_size', 'reference_price', 'imbalance_buy_sell_flag']:\n",
    "        for window in [1, 5, 10]:\n",
    "            df_[f\"{col}_shift_{window}\"] = df_.groupby('stock_id')[col].shift(window)\n",
    "            df_[f\"{col}_ret_{window}\"] = df_.groupby('stock_id')[col].pct_change(window)\n",
    "    \n",
    "    # Calculate diff features for specific columns\n",
    "    for col in ['ask_price', 'bid_price', 'ask_size', 'bid_size', 'market_urgency', 'imbalance_momentum', 'size_imbalance']:\n",
    "        for window in [1, 5, 10]:\n",
    "            df_[f\"{col}_diff_{window}\"] = df_.groupby(\"stock_id\")[col].diff(window)\n",
    "\n",
    "    return df_.replace([np.inf, -np.inf], 0)\n",
    "\n",
    "def other_features(df_):\n",
    "    df_[\"dow\"] = df_[\"date_id\"] % 5  # Day of the week\n",
    "    df_[\"seconds\"] = df_[\"seconds_in_bucket\"] % 60  \n",
    "    df_[\"minute\"] = df_[\"seconds_in_bucket\"] // 60  \n",
    "    for key, value in global_stock_id_feats.items():\n",
    "        df_[f\"global_{key}\"] = df_[\"stock_id\"].map(value.to_dict())\n",
    "\n",
    "    return df_\n",
    "\n",
    "def generate_all_features(df_):\n",
    "    # Select relevant columns for feature generation\n",
    "    cols = [c for c in df_.columns if c not in [\"row_id\", \"time_id\", \"target\"]]\n",
    "    df_ = df_[cols]\n",
    "    \n",
    "    # Generate imbalance features\n",
    "    df_ = imbalance_features(df_)\n",
    "    df_ = other_features(df_)\n",
    "    gc.collect()  \n",
    "    feature_name = [i for i in df_.columns if i not in [\"row_id\", \"target\", \"time_id\", \"date_id\"]]\n",
    "    return df_[feature_name]"
   ],
   "metadata": {
    "collapsed": false,
    "ExecuteTime": {
     "end_time": "2023-11-21T12:13:38.104758900Z",
     "start_time": "2023-11-21T12:13:38.081156300Z"
    }
   },
   "id": "b666bd8a027fc8b7"
  },
  {
   "cell_type": "code",
   "execution_count": 8,
   "outputs": [],
   "source": [
    "global_stock_id_feats = {\n",
    "    \"median_size\": df.groupby(\"stock_id\")[\"bid_size\"].median() + df.groupby(\"stock_id\")[\"ask_size\"].median(),\n",
    "    \"std_size\": df.groupby(\"stock_id\")[\"bid_size\"].std() + df.groupby(\"stock_id\")[\"ask_size\"].std(),\n",
    "    # \"ptp_size\": df.groupby(\"stock_id\")[\"bid_size\"].max() - df.groupby(\"stock_id\")[\"bid_size\"].min(),\n",
    "    \"ptp_size\": df.groupby(\"stock_id\")[\"bid_size\"].max() - df.groupby(\"stock_id\")[\"ask_size\"].min(),\n",
    "    \"median_price\": df.groupby(\"stock_id\")[\"bid_price\"].median() + df.groupby(\"stock_id\")[\"ask_price\"].median(),\n",
    "    \"std_price\": df.groupby(\"stock_id\")[\"bid_price\"].std() + df.groupby(\"stock_id\")[\"ask_price\"].std(),\n",
    "    \"ptp_price\": df.groupby(\"stock_id\")[\"bid_price\"].max() - df.groupby(\"stock_id\")[\"ask_price\"].min(),\n",
    "}\n",
    "\n",
    "y_all = df[['target']].values\n",
    "df_train_feats = generate_all_features(df)\n",
    "df_train_feats = reduce_mem_usage(df_train_feats)\n",
    "cols_group_by = ['stock_id', 'imbalance_buy_sell_flag']\n",
    "train_grouped_median = df_train_feats.groupby(cols_group_by).transform('median')\n",
    "df_train_feats = df_train_feats.fillna(train_grouped_median)\n",
    "df_train_feats = reduce_mem_usage(df_train_feats)"
   ],
   "metadata": {
    "collapsed": false,
    "ExecuteTime": {
     "end_time": "2023-11-21T12:14:48.157391200Z",
     "start_time": "2023-11-21T12:13:38.104758900Z"
    }
   },
   "id": "5a6ea818d706560a"
  },
  {
   "cell_type": "code",
   "execution_count": 9,
   "outputs": [
    {
     "data": {
      "text/plain": "(5237760, 109)"
     },
     "execution_count": 9,
     "metadata": {},
     "output_type": "execute_result"
    }
   ],
   "source": [
    "df_train_feats.shape"
   ],
   "metadata": {
    "collapsed": false,
    "ExecuteTime": {
     "end_time": "2023-11-21T12:14:48.760719400Z",
     "start_time": "2023-11-21T12:14:48.134244500Z"
    }
   },
   "id": "f8d468022a8c0935"
  },
  {
   "cell_type": "code",
   "execution_count": 10,
   "outputs": [
    {
     "data": {
      "text/plain": "stock_id                          0\nreference_price_shift_5           0\nask_price_diff_5                  0\nask_price_diff_1                  0\nimbalance_buy_sell_flag_ret_10    0\n                                 ..\nask_price_bid_price_wap_imb2      0\nbid_price_wap_imb                 0\nask_price_wap_imb                 0\nask_price_bid_price_imb           0\nglobal_ptp_price                  0\nLength: 109, dtype: int64"
     },
     "execution_count": 10,
     "metadata": {},
     "output_type": "execute_result"
    }
   ],
   "source": [
    "df_train_feats.isnull().sum(axis=0).sort_values(ascending=False)"
   ],
   "metadata": {
    "collapsed": false,
    "ExecuteTime": {
     "end_time": "2023-11-21T12:14:48.769191100Z",
     "start_time": "2023-11-21T12:14:48.248973700Z"
    }
   },
   "id": "d254d90ef9e7f532"
  },
  {
   "cell_type": "code",
   "execution_count": 11,
   "outputs": [
    {
     "data": {
      "text/plain": "(5237760, 109)"
     },
     "execution_count": 11,
     "metadata": {},
     "output_type": "execute_result"
    }
   ],
   "source": [
    "df_train_feats.shape"
   ],
   "metadata": {
    "collapsed": false,
    "ExecuteTime": {
     "end_time": "2023-11-21T12:14:48.769191100Z",
     "start_time": "2023-11-21T12:14:48.685254700Z"
    }
   },
   "id": "64c3c92f42ef91ac"
  },
  {
   "cell_type": "code",
   "execution_count": 12,
   "outputs": [
    {
     "data": {
      "text/plain": "Index(['stock_id', 'seconds_in_bucket', 'imbalance_size',\n       'imbalance_buy_sell_flag', 'reference_price', 'matched_size',\n       'far_price', 'near_price', 'bid_price', 'bid_size', 'ask_price',\n       'ask_size', 'wap', 'volume', 'mid_price', 'liquidity_imbalance',\n       'matched_imbalance', 'size_imbalance', 'reference_price_far_price_imb',\n       'reference_price_near_price_imb'],\n      dtype='object')"
     },
     "execution_count": 12,
     "metadata": {},
     "output_type": "execute_result"
    }
   ],
   "source": [
    "df_train_feats.columns[:20]"
   ],
   "metadata": {
    "collapsed": false,
    "ExecuteTime": {
     "end_time": "2023-11-21T12:14:48.769191100Z",
     "start_time": "2023-11-21T12:14:48.700877700Z"
    }
   },
   "id": "7bc0b2e82ba16847"
  },
  {
   "cell_type": "code",
   "execution_count": 13,
   "outputs": [],
   "source": [
    "df_train_feats = df_train_feats.drop(columns='stock_id')"
   ],
   "metadata": {
    "collapsed": false,
    "ExecuteTime": {
     "end_time": "2023-11-21T12:14:49.794638700Z",
     "start_time": "2023-11-21T12:14:48.767048400Z"
    }
   },
   "id": "95b8e74815f4d821"
  },
  {
   "cell_type": "code",
   "execution_count": 14,
   "outputs": [],
   "source": [
    "from sklearn.preprocessing import MinMaxScaler, StandardScaler\n",
    "\n",
    "scaler = StandardScaler()\n",
    "X_all = scaler.fit_transform(df_train_feats.values)"
   ],
   "metadata": {
    "collapsed": false,
    "ExecuteTime": {
     "end_time": "2023-11-21T12:14:57.242956800Z",
     "start_time": "2023-11-21T12:14:49.794638700Z"
    }
   },
   "id": "486dbc5d7d823f02"
  },
  {
   "cell_type": "code",
   "execution_count": 15,
   "outputs": [],
   "source": [
    "from sklearn.model_selection import train_test_split\n",
    "\n",
    "X_train, X_valid, y_train, y_valid = train_test_split(X_all, y_all, test_size=0.2, random_state=42)"
   ],
   "metadata": {
    "collapsed": false,
    "ExecuteTime": {
     "end_time": "2023-11-21T12:15:07.084560800Z",
     "start_time": "2023-11-21T12:14:57.254281Z"
    }
   },
   "id": "1a5eedad04b69daf"
  },
  {
   "cell_type": "code",
   "execution_count": 16,
   "outputs": [],
   "source": [
    "import torch\n",
    "import torch.nn as nn\n",
    "import torch.nn.functional as F\n",
    "from torch.utils.data import Dataset, TensorDataset, DataLoader\n",
    "from torchvision.transforms import transforms"
   ],
   "metadata": {
    "collapsed": false,
    "ExecuteTime": {
     "end_time": "2023-11-21T12:15:11.722088700Z",
     "start_time": "2023-11-21T12:15:07.086498200Z"
    }
   },
   "id": "264ea7828933dfa7"
  },
  {
   "cell_type": "code",
   "execution_count": 17,
   "outputs": [
    {
     "data": {
      "text/plain": "device(type='cuda')"
     },
     "execution_count": 17,
     "metadata": {},
     "output_type": "execute_result"
    }
   ],
   "source": [
    "# 장비 설정\n",
    "device = torch.device('cuda' if torch.cuda.is_available() else 'cpu')\n",
    "device"
   ],
   "metadata": {
    "collapsed": false,
    "ExecuteTime": {
     "end_time": "2023-11-21T12:15:11.829494700Z",
     "start_time": "2023-11-21T12:15:11.726809Z"
    }
   },
   "id": "58a9f18e76fa1786"
  },
  {
   "cell_type": "code",
   "execution_count": 18,
   "outputs": [],
   "source": [
    "train_dataset = TensorDataset(torch.Tensor(X_train), torch.Tensor(y_train))\n",
    "valid_dataset = TensorDataset(torch.Tensor(X_valid), torch.Tensor(y_valid))"
   ],
   "metadata": {
    "collapsed": false,
    "ExecuteTime": {
     "end_time": "2023-11-21T12:15:11.882244200Z",
     "start_time": "2023-11-21T12:15:11.814574500Z"
    }
   },
   "id": "b5ea02e03ef08775"
  },
  {
   "cell_type": "code",
   "execution_count": 19,
   "outputs": [],
   "source": [
    "batch_size=2048\n",
    "train_loader = DataLoader(dataset=train_dataset, batch_size=batch_size, shuffle=True, drop_last=True)\n",
    "valid_loader = DataLoader(dataset=valid_dataset, batch_size=batch_size, shuffle=False, drop_last=True)"
   ],
   "metadata": {
    "collapsed": false,
    "ExecuteTime": {
     "end_time": "2023-11-21T12:15:11.898005200Z",
     "start_time": "2023-11-21T12:15:11.844579500Z"
    }
   },
   "id": "761956a8c31f34b3"
  },
  {
   "cell_type": "code",
   "execution_count": 20,
   "outputs": [],
   "source": [
    "import math\n",
    "from torch.optim.lr_scheduler import _LRScheduler\n",
    "\n",
    "class CosineAnnealingWarmUpRestarts(_LRScheduler):\n",
    "    def __init__(self, optimizer, T_0, T_mult=1, eta_max=0.1, T_up=0, gamma=1., last_epoch=-1):\n",
    "        if T_0 <= 0 or not isinstance(T_0, int):\n",
    "            raise ValueError(\"Expected positive integer T_0, but got {}\".format(T_0))\n",
    "        if T_mult < 1 or not isinstance(T_mult, int):\n",
    "            raise ValueError(\"Expected integer T_mult >= 1, but got {}\".format(T_mult))\n",
    "        if T_up < 0 or not isinstance(T_up, int):\n",
    "            raise ValueError(\"Expected positive integer T_up, but got {}\".format(T_up))\n",
    "        self.T_0 = T_0\n",
    "        self.T_mult = T_mult\n",
    "        self.base_eta_max = eta_max\n",
    "        self.eta_max = eta_max\n",
    "        self.T_up = T_up\n",
    "        self.T_i = T_0\n",
    "        self.gamma = gamma\n",
    "        self.cycle = 0\n",
    "        self.T_cur = last_epoch\n",
    "        super(CosineAnnealingWarmUpRestarts, self).__init__(optimizer, last_epoch)\n",
    "\n",
    "    def get_lr(self):\n",
    "        if self.T_cur == -1:\n",
    "            return self.base_lrs\n",
    "        elif self.T_cur < self.T_up:\n",
    "            return [(self.eta_max - base_lr)*self.T_cur / self.T_up + base_lr for base_lr in self.base_lrs]\n",
    "        else:\n",
    "            return [base_lr + (self.eta_max - base_lr) * (1 + math.cos(math.pi * (self.T_cur-self.T_up) / (self.T_i - self.T_up))) / 2\n",
    "                    for base_lr in self.base_lrs]\n",
    "\n",
    "    def step(self, epoch=None):\n",
    "        if epoch is None:\n",
    "            epoch = self.last_epoch + 1\n",
    "            self.T_cur = self.T_cur + 1\n",
    "            if self.T_cur >= self.T_i:\n",
    "                self.cycle += 1\n",
    "                self.T_cur = self.T_cur - self.T_i\n",
    "                self.T_i = (self.T_i - self.T_up) * self.T_mult + self.T_up\n",
    "        else:\n",
    "            if epoch >= self.T_0:\n",
    "                if self.T_mult == 1:\n",
    "                    self.T_cur = epoch % self.T_0\n",
    "                    self.cycle = epoch // self.T_0\n",
    "                else:\n",
    "                    n = int(math.log((epoch / self.T_0 * (self.T_mult - 1) + 1), self.T_mult))\n",
    "                    self.cycle = n\n",
    "                    self.T_cur = epoch - self.T_0 * (self.T_mult ** n - 1) / (self.T_mult - 1)\n",
    "                    self.T_i = self.T_0 * self.T_mult ** (n)\n",
    "            else:\n",
    "                self.T_i = self.T_0\n",
    "                self.T_cur = epoch\n",
    "\n",
    "        self.eta_max = self.base_eta_max * (self.gamma**self.cycle)\n",
    "        self.last_epoch = math.floor(epoch)\n",
    "        for param_group, lr in zip(self.optimizer.param_groups, self.get_lr()):\n",
    "            param_group['lr'] = lr"
   ],
   "metadata": {
    "collapsed": false,
    "ExecuteTime": {
     "end_time": "2023-11-21T12:15:11.917934300Z",
     "start_time": "2023-11-21T12:15:11.851295800Z"
    }
   },
   "id": "fa427cc8e6b8fe1a"
  },
  {
   "cell_type": "code",
   "execution_count": 21,
   "outputs": [],
   "source": [
    "# early stopper\n",
    "class EarlyStopper:\n",
    "    def __init__(self, patience=10, min_delta=0.00001):\n",
    "        self.best_model = None\n",
    "        self.patience = patience\n",
    "        self.min_delta = min_delta\n",
    "        self.counter = 0\n",
    "        self.min_validation_loss = float('inf')\n",
    "        \n",
    "    def get_best_model(self):\n",
    "        return self.best_model\n",
    "\n",
    "    def early_stop(self, validation_loss, model):\n",
    "        if validation_loss < self.min_validation_loss:\n",
    "            print(f\"New best loss: {validation_loss:>4f}\")\n",
    "            self.min_validation_loss = validation_loss\n",
    "            self.counter = 0\n",
    "            self.best_model = model\n",
    "        elif validation_loss > (self.min_validation_loss + self.min_delta):\n",
    "            self.counter += 1\n",
    "            if self.counter >= self.patience:\n",
    "                return True\n",
    "        return False"
   ],
   "metadata": {
    "collapsed": false,
    "ExecuteTime": {
     "end_time": "2023-11-21T12:15:11.923260200Z",
     "start_time": "2023-11-21T12:15:11.866596500Z"
    }
   },
   "id": "3481059198b0a5e2"
  },
  {
   "cell_type": "code",
   "execution_count": 22,
   "outputs": [],
   "source": [
    "input_size = df_train_feats.shape[1]\n",
    "class DNNModel(nn.Module):\n",
    "    def __init__(self):\n",
    "        super().__init__()\n",
    "        self.fc1 = nn.Linear(in_features=input_size, out_features=512) \n",
    "        # self.bn1 = nn.BatchNorm1d(num_features=512)\n",
    "        self.fc2 = nn.Linear(in_features=512, out_features=256)\n",
    "        self.bn2 = nn.BatchNorm1d(num_features=256)\n",
    "        self.fc3 = nn.Linear(in_features=256, out_features=128)\n",
    "        # self.bn3 = nn.BatchNorm1d(num_features=128)\n",
    "        self.fc4 = nn.Linear(in_features=128, out_features=64)\n",
    "        self.bn4 = nn.BatchNorm1d(num_features=64)\n",
    "        self.fc5 = nn.Linear(in_features=64, out_features=32)\n",
    "        self.bn5 = nn.BatchNorm1d(num_features=32)\n",
    "        self.fc6 = nn.Linear(in_features=32, out_features=1) \n",
    "        self.relu = nn.LeakyReLU() # activation layer\n",
    "        self.dropout20 = nn.Dropout(p=0.2)\n",
    "        self.dropout40 = nn.Dropout(p=0.4)\n",
    "\n",
    "\n",
    "    def forward(self, x):\n",
    "        x = self.dropout20(self.relu(self.fc1(x)))\n",
    "        x = self.relu(self.bn2(self.fc2(x)))\n",
    "        x = self.dropout20(self.relu(self.fc3(x)))\n",
    "        x = self.relu(self.bn4(self.fc4(x)))\n",
    "        x = self.dropout40(self.relu(self.bn5(self.fc5(x))))\n",
    "        x = self.fc6(x)\n",
    "        return x"
   ],
   "metadata": {
    "collapsed": false,
    "ExecuteTime": {
     "end_time": "2023-11-21T12:15:12.139048900Z",
     "start_time": "2023-11-21T12:15:11.890488800Z"
    }
   },
   "id": "66884662e6f4483e"
  },
  {
   "cell_type": "code",
   "execution_count": 23,
   "outputs": [
    {
     "data": {
      "text/plain": "DNNModel(\n  (fc1): Linear(in_features=108, out_features=512, bias=True)\n  (fc2): Linear(in_features=512, out_features=256, bias=True)\n  (bn2): BatchNorm1d(256, eps=1e-05, momentum=0.1, affine=True, track_running_stats=True)\n  (fc3): Linear(in_features=256, out_features=128, bias=True)\n  (fc4): Linear(in_features=128, out_features=64, bias=True)\n  (bn4): BatchNorm1d(64, eps=1e-05, momentum=0.1, affine=True, track_running_stats=True)\n  (fc5): Linear(in_features=64, out_features=32, bias=True)\n  (bn5): BatchNorm1d(32, eps=1e-05, momentum=0.1, affine=True, track_running_stats=True)\n  (fc6): Linear(in_features=32, out_features=1, bias=True)\n  (relu): LeakyReLU(negative_slope=0.01)\n  (dropout20): Dropout(p=0.2, inplace=False)\n  (dropout40): Dropout(p=0.4, inplace=False)\n)"
     },
     "execution_count": 23,
     "metadata": {},
     "output_type": "execute_result"
    }
   ],
   "source": [
    "dnn_model = DNNModel().to(device)\n",
    "dnn_model"
   ],
   "metadata": {
    "collapsed": false,
    "ExecuteTime": {
     "end_time": "2023-11-21T12:15:12.215976600Z",
     "start_time": "2023-11-21T12:15:11.898005200Z"
    }
   },
   "id": "682b486dbf2ddbf1"
  },
  {
   "cell_type": "code",
   "execution_count": 24,
   "outputs": [],
   "source": [
    "from tqdm.auto import tqdm\n",
    "epochs = 1000\n",
    "lr_list = []\n",
    "def train(model, train_loader, valid_loader, criterion, optimizer, early_stopper, lr_scheduler=None, epochs=100, save_file=data_path+'model_state_dict.pth'):\n",
    "    train_epoch_loss = []\n",
    "    valid_epoch_loss = []\n",
    "    for epoch in range(epochs):\n",
    "    \n",
    "        train_iter_loss = []\n",
    "        model.train()\n",
    "        for idx, (stocks, movements) in enumerate(train_loader):\n",
    "            stocks = stocks.to(device)\n",
    "            movements = movements.to(device)\n",
    "            outputs = model(stocks)\n",
    "            loss = criterion(outputs, movements)\n",
    "            train_iter_loss.append(loss.item())\n",
    "            optimizer.zero_grad() \n",
    "            loss.backward()\n",
    "            optimizer.step()\n",
    "            if lr_scheduler:\n",
    "                lr_scheduler.step()\n",
    "            if ((epoch+1)*idx)%10 == 0:\n",
    "                lr_list.append(optimizer.param_groups[0]['lr'])\n",
    "        print(f'Epoch [{epoch+1}/{epochs}] - Train loss : {sum(train_iter_loss)/len(train_loader):.4f}')\n",
    "        train_epoch_loss.append(sum(train_iter_loss)/len(train_loader))\n",
    "    \n",
    "        model.eval()\n",
    "        valid_iter_loss = []\n",
    "        for idx, (stocks, movements) in enumerate(valid_loader):\n",
    "            with torch.no_grad():\n",
    "                stocks = stocks.to(device)\n",
    "                movements = movements.to(device)\n",
    "                outputs = model(stocks)\n",
    "                loss = criterion(outputs, movements)\n",
    "                valid_iter_loss.append(loss.item())\n",
    "        print(f'Epoch [{epoch+1}/{epochs}] - Valid loss : {sum(valid_iter_loss)/len(valid_loader):.4f}')\n",
    "        valid_epoch_loss.append(sum(valid_iter_loss)/len(valid_loader))\n",
    "        if early_stopper.early_stop(sum(valid_iter_loss)/len(valid_loader), model):\n",
    "            torch.save(early_stopper.get_best_model().state_dict(), save_file)\n",
    "            break\n",
    "        gc.collect()\n",
    "    return torch.load(save_file), train_epoch_loss, valid_epoch_loss"
   ],
   "metadata": {
    "collapsed": false,
    "ExecuteTime": {
     "end_time": "2023-11-21T12:15:12.231602Z",
     "start_time": "2023-11-21T12:15:12.132072100Z"
    }
   },
   "id": "36ec4e3f57d2817c"
  },
  {
   "cell_type": "code",
   "execution_count": 25,
   "outputs": [],
   "source": [
    "# 손실 함수\n",
    "criterion = nn.L1Loss()"
   ],
   "metadata": {
    "collapsed": false,
    "ExecuteTime": {
     "end_time": "2023-11-21T12:15:12.246952Z",
     "start_time": "2023-11-21T12:15:12.139048900Z"
    }
   },
   "id": "9b37fe60382ec9a9"
  },
  {
   "cell_type": "code",
   "execution_count": 26,
   "outputs": [],
   "source": [
    "# 옵티마이저\n",
    "# optimizer = torch.optim.SGD(dnn_model.parameters(), lr=0.1, momentum=0.9, weight_decay=1e-5)\n",
    "optimizer = torch.optim.Adam(dnn_model.parameters(), lr=0)"
   ],
   "metadata": {
    "collapsed": false,
    "ExecuteTime": {
     "end_time": "2023-11-21T12:15:12.246952Z",
     "start_time": "2023-11-21T12:15:12.154676400Z"
    }
   },
   "id": "a77321d3ac8d5d26"
  },
  {
   "cell_type": "code",
   "execution_count": 27,
   "outputs": [],
   "source": [
    "# lr_scheduler = CosineAnnealingWarmupRestarts(optimizer, first_cycle_steps=100, cycle_mult=1.0, max_lr=0.1, min_lr=0.001, warmup_steps=20, gamma=0.5)\n",
    "# lr_scheduler = CosineAnnealingWarmUpRestarts(optimizer, T_0=100, T_mult=1, eta_max=0.1,  T_up=10, gamma=0.5)\n",
    "lr_scheduler = CosineAnnealingWarmUpRestarts(optimizer, T_0=len(train_loader)*10, T_mult=1, eta_max=0.1,  T_up=50, gamma=0.7)\n",
    "# from torch.optim.lr_scheduler import CosineAnnealingWarmRestarts\n",
    "# lr_scheduler = CosineAnnealingWarmRestarts(optimizer=optimizer, T_0=150,T_mult=1,eta_min=0.001)\n",
    "# lr_scheduler = None"
   ],
   "metadata": {
    "collapsed": false,
    "ExecuteTime": {
     "end_time": "2023-11-21T12:15:12.246952Z",
     "start_time": "2023-11-21T12:15:12.176733300Z"
    }
   },
   "id": "33361b5ca9a2728b"
  },
  {
   "cell_type": "code",
   "execution_count": 28,
   "outputs": [],
   "source": [
    "early_stopper = EarlyStopper(patience=15, min_delta=0.0001)"
   ],
   "metadata": {
    "collapsed": false,
    "ExecuteTime": {
     "end_time": "2023-11-21T12:15:12.246952Z",
     "start_time": "2023-11-21T12:15:12.183829900Z"
    }
   },
   "id": "4f7139ac0cc15f04"
  },
  {
   "cell_type": "code",
   "execution_count": 29,
   "outputs": [
    {
     "name": "stdout",
     "output_type": "stream",
     "text": [
      "Epoch [1/1000] - Train loss : 6.3130\n",
      "Epoch [1/1000] - Valid loss : 6.2693\n",
      "New best loss: 6.269267\n",
      "Epoch [2/1000] - Train loss : 6.2997\n",
      "Epoch [2/1000] - Valid loss : 6.2592\n",
      "New best loss: 6.259151\n",
      "Epoch [3/1000] - Train loss : 6.2881\n",
      "Epoch [3/1000] - Valid loss : 6.2501\n",
      "New best loss: 6.250105\n",
      "Epoch [4/1000] - Train loss : 6.2784\n",
      "Epoch [4/1000] - Valid loss : 6.2429\n",
      "New best loss: 6.242863\n",
      "Epoch [5/1000] - Train loss : 6.2694\n",
      "Epoch [5/1000] - Valid loss : 6.2356\n",
      "New best loss: 6.235565\n",
      "Epoch [6/1000] - Train loss : 6.2610\n",
      "Epoch [6/1000] - Valid loss : 6.2391\n",
      "Epoch [7/1000] - Train loss : 6.2521\n",
      "Epoch [7/1000] - Valid loss : 6.2239\n",
      "New best loss: 6.223856\n",
      "Epoch [8/1000] - Train loss : 6.2445\n",
      "Epoch [8/1000] - Valid loss : 6.2199\n",
      "New best loss: 6.219927\n",
      "Epoch [9/1000] - Train loss : 6.2385\n",
      "Epoch [9/1000] - Valid loss : 6.2176\n",
      "New best loss: 6.217561\n",
      "Epoch [10/1000] - Train loss : 6.2355\n",
      "Epoch [10/1000] - Valid loss : 6.2174\n",
      "New best loss: 6.217357\n",
      "Epoch [11/1000] - Train loss : 6.2563\n",
      "Epoch [11/1000] - Valid loss : 6.2276\n",
      "Epoch [12/1000] - Train loss : 6.2533\n",
      "Epoch [12/1000] - Valid loss : 6.2331\n",
      "Epoch [13/1000] - Train loss : 6.2494\n",
      "Epoch [13/1000] - Valid loss : 6.2245\n",
      "Epoch [14/1000] - Train loss : 6.2448\n",
      "Epoch [14/1000] - Valid loss : 6.2275\n",
      "Epoch [15/1000] - Train loss : 6.2389\n",
      "Epoch [15/1000] - Valid loss : 6.2160\n",
      "New best loss: 6.216008\n",
      "Epoch [16/1000] - Train loss : 6.2334\n",
      "Epoch [16/1000] - Valid loss : 6.2122\n",
      "New best loss: 6.212166\n",
      "Epoch [17/1000] - Train loss : 6.2276\n",
      "Epoch [17/1000] - Valid loss : 6.2085\n",
      "New best loss: 6.208477\n",
      "Epoch [18/1000] - Train loss : 6.2215\n",
      "Epoch [18/1000] - Valid loss : 6.2053\n",
      "New best loss: 6.205287\n",
      "Epoch [19/1000] - Train loss : 6.2174\n",
      "Epoch [19/1000] - Valid loss : 6.2065\n",
      "Epoch [20/1000] - Train loss : 6.2146\n",
      "Epoch [20/1000] - Valid loss : 6.2042\n",
      "New best loss: 6.204171\n",
      "Epoch [21/1000] - Train loss : 6.2322\n",
      "Epoch [21/1000] - Valid loss : 6.2115\n",
      "Epoch [22/1000] - Train loss : 6.2315\n",
      "Epoch [22/1000] - Valid loss : 6.2101\n",
      "Epoch [23/1000] - Train loss : 6.2290\n",
      "Epoch [23/1000] - Valid loss : 6.2105\n",
      "Epoch [24/1000] - Train loss : 6.2246\n",
      "Epoch [24/1000] - Valid loss : 6.2055\n",
      "Epoch [25/1000] - Train loss : 6.2201\n",
      "Epoch [25/1000] - Valid loss : 6.2038\n",
      "New best loss: 6.203818\n",
      "Epoch [26/1000] - Train loss : 6.2150\n",
      "Epoch [26/1000] - Valid loss : 6.2117\n",
      "Epoch [27/1000] - Train loss : 6.2098\n",
      "Epoch [27/1000] - Valid loss : 6.1989\n",
      "New best loss: 6.198936\n",
      "Epoch [28/1000] - Train loss : 6.2052\n",
      "Epoch [28/1000] - Valid loss : 6.1988\n",
      "New best loss: 6.198797\n",
      "Epoch [29/1000] - Train loss : 6.2014\n",
      "Epoch [29/1000] - Valid loss : 6.1989\n",
      "Epoch [30/1000] - Train loss : 6.1999\n",
      "Epoch [30/1000] - Valid loss : 6.1969\n",
      "New best loss: 6.196929\n",
      "Epoch [31/1000] - Train loss : 6.2143\n",
      "Epoch [31/1000] - Valid loss : 6.2056\n",
      "Epoch [32/1000] - Train loss : 6.2145\n",
      "Epoch [32/1000] - Valid loss : 6.2049\n",
      "Epoch [33/1000] - Train loss : 6.2125\n",
      "Epoch [33/1000] - Valid loss : 6.2023\n",
      "Epoch [34/1000] - Train loss : 6.2087\n",
      "Epoch [34/1000] - Valid loss : 6.2037\n",
      "Epoch [35/1000] - Train loss : 6.2054\n",
      "Epoch [35/1000] - Valid loss : 6.1979\n",
      "Epoch [36/1000] - Train loss : 6.2001\n",
      "Epoch [36/1000] - Valid loss : 6.1952\n",
      "New best loss: 6.195210\n",
      "Epoch [37/1000] - Train loss : 6.1965\n",
      "Epoch [37/1000] - Valid loss : 6.1940\n",
      "New best loss: 6.193974\n",
      "Epoch [38/1000] - Train loss : 6.1935\n",
      "Epoch [38/1000] - Valid loss : 6.1935\n",
      "New best loss: 6.193507\n",
      "Epoch [39/1000] - Train loss : 6.1907\n",
      "Epoch [39/1000] - Valid loss : 6.1932\n",
      "New best loss: 6.193216\n",
      "Epoch [40/1000] - Train loss : 6.1893\n",
      "Epoch [40/1000] - Valid loss : 6.1927\n",
      "New best loss: 6.192749\n",
      "Epoch [41/1000] - Train loss : 6.2001\n",
      "Epoch [41/1000] - Valid loss : 6.2078\n",
      "Epoch [42/1000] - Train loss : 6.2008\n",
      "Epoch [42/1000] - Valid loss : 6.1965\n",
      "Epoch [43/1000] - Train loss : 6.1990\n",
      "Epoch [43/1000] - Valid loss : 6.1987\n",
      "Epoch [44/1000] - Train loss : 6.1969\n",
      "Epoch [44/1000] - Valid loss : 6.1969\n",
      "Epoch [45/1000] - Train loss : 6.1932\n",
      "Epoch [45/1000] - Valid loss : 6.1942\n",
      "Epoch [46/1000] - Train loss : 6.1896\n",
      "Epoch [46/1000] - Valid loss : 6.1928\n",
      "Epoch [47/1000] - Train loss : 6.1868\n",
      "Epoch [47/1000] - Valid loss : 6.1916\n",
      "New best loss: 6.191571\n",
      "Epoch [48/1000] - Train loss : 6.1837\n",
      "Epoch [48/1000] - Valid loss : 6.1903\n",
      "New best loss: 6.190343\n",
      "Epoch [49/1000] - Train loss : 6.1825\n",
      "Epoch [49/1000] - Valid loss : 6.1902\n",
      "New best loss: 6.190187\n",
      "Epoch [50/1000] - Train loss : 6.1819\n",
      "Epoch [50/1000] - Valid loss : 6.1901\n",
      "New best loss: 6.190105\n",
      "Epoch [51/1000] - Train loss : 6.1913\n",
      "Epoch [51/1000] - Valid loss : 6.1939\n",
      "Epoch [52/1000] - Train loss : 6.1898\n",
      "Epoch [52/1000] - Valid loss : 6.1918\n",
      "Epoch [53/1000] - Train loss : 6.1885\n",
      "Epoch [53/1000] - Valid loss : 6.1931\n",
      "Epoch [54/1000] - Train loss : 6.1860\n",
      "Epoch [54/1000] - Valid loss : 6.1940\n",
      "Epoch [55/1000] - Train loss : 6.1838\n",
      "Epoch [55/1000] - Valid loss : 6.1899\n",
      "New best loss: 6.189912\n",
      "Epoch [56/1000] - Train loss : 6.1814\n",
      "Epoch [56/1000] - Valid loss : 6.1899\n",
      "Epoch [57/1000] - Train loss : 6.1790\n",
      "Epoch [57/1000] - Valid loss : 6.1896\n",
      "New best loss: 6.189586\n",
      "Epoch [58/1000] - Train loss : 6.1766\n",
      "Epoch [58/1000] - Valid loss : 6.1887\n",
      "New best loss: 6.188691\n",
      "Epoch [59/1000] - Train loss : 6.1752\n",
      "Epoch [59/1000] - Valid loss : 6.1889\n",
      "Epoch [60/1000] - Train loss : 6.1751\n",
      "Epoch [60/1000] - Valid loss : 6.1884\n",
      "New best loss: 6.188392\n",
      "Epoch [61/1000] - Train loss : 6.1811\n",
      "Epoch [61/1000] - Valid loss : 6.1906\n",
      "Epoch [62/1000] - Train loss : 6.1809\n",
      "Epoch [62/1000] - Valid loss : 6.1905\n",
      "Epoch [63/1000] - Train loss : 6.1804\n",
      "Epoch [63/1000] - Valid loss : 6.1892\n",
      "Epoch [64/1000] - Train loss : 6.1771\n",
      "Epoch [64/1000] - Valid loss : 6.1905\n",
      "Epoch [65/1000] - Train loss : 6.1760\n",
      "Epoch [65/1000] - Valid loss : 6.1889\n",
      "Epoch [66/1000] - Train loss : 6.1742\n",
      "Epoch [66/1000] - Valid loss : 6.1885\n",
      "Epoch [67/1000] - Train loss : 6.1724\n",
      "Epoch [67/1000] - Valid loss : 6.1881\n",
      "New best loss: 6.188063\n",
      "Epoch [68/1000] - Train loss : 6.1708\n",
      "Epoch [68/1000] - Valid loss : 6.1878\n",
      "New best loss: 6.187757\n",
      "Epoch [69/1000] - Train loss : 6.1696\n",
      "Epoch [69/1000] - Valid loss : 6.1882\n",
      "Epoch [70/1000] - Train loss : 6.1684\n",
      "Epoch [70/1000] - Valid loss : 6.1903\n",
      "Epoch [71/1000] - Train loss : 6.1745\n",
      "Epoch [71/1000] - Valid loss : 6.1883\n",
      "Epoch [72/1000] - Train loss : 6.1742\n",
      "Epoch [72/1000] - Valid loss : 6.1891\n",
      "Epoch [73/1000] - Train loss : 6.1731\n",
      "Epoch [73/1000] - Valid loss : 6.1884\n",
      "Epoch [74/1000] - Train loss : 6.1721\n",
      "Epoch [74/1000] - Valid loss : 6.1878\n",
      "Epoch [75/1000] - Train loss : 6.1705\n",
      "Epoch [75/1000] - Valid loss : 6.1871\n",
      "New best loss: 6.187099\n",
      "Epoch [76/1000] - Train loss : 6.1694\n",
      "Epoch [76/1000] - Valid loss : 6.1877\n",
      "Epoch [77/1000] - Train loss : 6.1667\n",
      "Epoch [77/1000] - Valid loss : 6.1863\n",
      "New best loss: 6.186289\n",
      "Epoch [78/1000] - Train loss : 6.1661\n",
      "Epoch [78/1000] - Valid loss : 6.1863\n",
      "New best loss: 6.186272\n",
      "Epoch [79/1000] - Train loss : 6.1659\n",
      "Epoch [79/1000] - Valid loss : 6.1862\n",
      "New best loss: 6.186217\n",
      "Epoch [80/1000] - Train loss : 6.1651\n",
      "Epoch [80/1000] - Valid loss : 6.1864\n",
      "Epoch [81/1000] - Train loss : 6.1699\n",
      "Epoch [81/1000] - Valid loss : 6.1867\n",
      "Epoch [82/1000] - Train loss : 6.1691\n",
      "Epoch [82/1000] - Valid loss : 6.1867\n",
      "Epoch [83/1000] - Train loss : 6.1679\n",
      "Epoch [83/1000] - Valid loss : 6.1862\n",
      "New best loss: 6.186169\n",
      "Epoch [84/1000] - Train loss : 6.1678\n",
      "Epoch [84/1000] - Valid loss : 6.1889\n",
      "Epoch [85/1000] - Train loss : 6.1650\n",
      "Epoch [85/1000] - Valid loss : 6.1861\n",
      "New best loss: 6.186144\n",
      "Epoch [86/1000] - Train loss : 6.1644\n",
      "Epoch [86/1000] - Valid loss : 6.1868\n",
      "Epoch [87/1000] - Train loss : 6.1632\n",
      "Epoch [87/1000] - Valid loss : 6.1876\n",
      "Epoch [88/1000] - Train loss : 6.1637\n",
      "Epoch [88/1000] - Valid loss : 6.1855\n",
      "New best loss: 6.185518\n",
      "Epoch [89/1000] - Train loss : 6.1623\n",
      "Epoch [89/1000] - Valid loss : 6.1858\n",
      "Epoch [90/1000] - Train loss : 6.1623\n",
      "Epoch [90/1000] - Valid loss : 6.1852\n",
      "New best loss: 6.185220\n",
      "Epoch [91/1000] - Train loss : 6.1643\n",
      "Epoch [91/1000] - Valid loss : 6.1856\n",
      "Epoch [92/1000] - Train loss : 6.1646\n",
      "Epoch [92/1000] - Valid loss : 6.1867\n",
      "Epoch [93/1000] - Train loss : 6.1643\n",
      "Epoch [93/1000] - Valid loss : 6.1859\n",
      "Epoch [94/1000] - Train loss : 6.1634\n",
      "Epoch [94/1000] - Valid loss : 6.2046\n",
      "Epoch [95/1000] - Train loss : 6.1624\n",
      "Epoch [95/1000] - Valid loss : 6.1853\n",
      "Epoch [96/1000] - Train loss : 6.1611\n",
      "Epoch [96/1000] - Valid loss : 6.1850\n",
      "New best loss: 6.185003\n",
      "Epoch [97/1000] - Train loss : 6.1609\n",
      "Epoch [97/1000] - Valid loss : 6.1850\n",
      "New best loss: 6.184960\n",
      "Epoch [98/1000] - Train loss : 6.1604\n",
      "Epoch [98/1000] - Valid loss : 6.1847\n",
      "New best loss: 6.184681\n",
      "Epoch [99/1000] - Train loss : 6.1595\n",
      "Epoch [99/1000] - Valid loss : 6.1856\n",
      "Epoch [100/1000] - Train loss : 6.1593\n",
      "Epoch [100/1000] - Valid loss : 6.1849\n",
      "Epoch [101/1000] - Train loss : 6.1613\n",
      "Epoch [101/1000] - Valid loss : 6.1859\n",
      "Epoch [102/1000] - Train loss : 6.1616\n",
      "Epoch [102/1000] - Valid loss : 6.1852\n",
      "Epoch [103/1000] - Train loss : 6.1607\n",
      "Epoch [103/1000] - Valid loss : 6.1857\n",
      "Epoch [104/1000] - Train loss : 6.1604\n",
      "Epoch [104/1000] - Valid loss : 6.1853\n",
      "Epoch [105/1000] - Train loss : 6.1606\n",
      "Epoch [105/1000] - Valid loss : 6.1852\n",
      "Epoch [106/1000] - Train loss : 6.1594\n",
      "Epoch [106/1000] - Valid loss : 6.1848\n",
      "Epoch [107/1000] - Train loss : 6.1585\n",
      "Epoch [107/1000] - Valid loss : 6.1842\n",
      "New best loss: 6.184197\n",
      "Epoch [108/1000] - Train loss : 6.1577\n",
      "Epoch [108/1000] - Valid loss : 6.1862\n",
      "Epoch [109/1000] - Train loss : 6.1589\n",
      "Epoch [109/1000] - Valid loss : 6.1847\n",
      "Epoch [110/1000] - Train loss : 6.1582\n",
      "Epoch [110/1000] - Valid loss : 6.1844\n",
      "Epoch [111/1000] - Train loss : 6.1604\n",
      "Epoch [111/1000] - Valid loss : 6.1850\n",
      "Epoch [112/1000] - Train loss : 6.1592\n",
      "Epoch [112/1000] - Valid loss : 6.1858\n",
      "Epoch [113/1000] - Train loss : 6.1591\n",
      "Epoch [113/1000] - Valid loss : 6.1850\n",
      "Epoch [114/1000] - Train loss : 6.1584\n",
      "Epoch [114/1000] - Valid loss : 6.1846\n",
      "Epoch [115/1000] - Train loss : 6.1584\n",
      "Epoch [115/1000] - Valid loss : 6.1845\n",
      "Epoch [116/1000] - Train loss : 6.1580\n",
      "Epoch [116/1000] - Valid loss : 6.1843\n",
      "Epoch [117/1000] - Train loss : 6.1579\n",
      "Epoch [117/1000] - Valid loss : 6.1841\n",
      "New best loss: 6.184148\n",
      "Epoch [118/1000] - Train loss : 6.1581\n",
      "Epoch [118/1000] - Valid loss : 6.1841\n",
      "New best loss: 6.184097\n",
      "Epoch [119/1000] - Train loss : 6.1573\n",
      "Epoch [119/1000] - Valid loss : 6.1846\n",
      "Epoch [120/1000] - Train loss : 6.1565\n",
      "Epoch [120/1000] - Valid loss : 6.1841\n",
      "Epoch [121/1000] - Train loss : 6.1581\n",
      "Epoch [121/1000] - Valid loss : 6.1842\n",
      "Epoch [122/1000] - Train loss : 6.1583\n",
      "Epoch [122/1000] - Valid loss : 6.1849\n",
      "Epoch [123/1000] - Train loss : 6.1571\n",
      "Epoch [123/1000] - Valid loss : 6.1843\n",
      "Epoch [124/1000] - Train loss : 6.1567\n",
      "Epoch [124/1000] - Valid loss : 6.1842\n",
      "Epoch [125/1000] - Train loss : 6.1570\n",
      "Epoch [125/1000] - Valid loss : 6.1860\n",
      "Epoch [126/1000] - Train loss : 6.1577\n",
      "Epoch [126/1000] - Valid loss : 6.1842\n",
      "Epoch [127/1000] - Train loss : 6.1564\n",
      "Epoch [127/1000] - Valid loss : 6.1842\n",
      "Epoch [128/1000] - Train loss : 6.1556\n",
      "Epoch [128/1000] - Valid loss : 6.1843\n",
      "Epoch [129/1000] - Train loss : 6.1548\n",
      "Epoch [129/1000] - Valid loss : 6.1842\n",
      "Epoch [130/1000] - Train loss : 6.1557\n",
      "Epoch [130/1000] - Valid loss : 6.1841\n",
      "Epoch [131/1000] - Train loss : 6.1562\n",
      "Epoch [131/1000] - Valid loss : 6.1842\n",
      "Epoch [132/1000] - Train loss : 6.1566\n",
      "Epoch [132/1000] - Valid loss : 6.1842\n",
      "Epoch [133/1000] - Train loss : 6.1567\n",
      "Epoch [133/1000] - Valid loss : 6.1842\n",
      "Epoch [134/1000] - Train loss : 6.1566\n",
      "Epoch [134/1000] - Valid loss : 6.1867\n",
      "Epoch [135/1000] - Train loss : 6.1566\n",
      "Epoch [135/1000] - Valid loss : 6.1839\n",
      "New best loss: 6.183884\n",
      "Epoch [136/1000] - Train loss : 6.1563\n",
      "Epoch [136/1000] - Valid loss : 6.1840\n",
      "Epoch [137/1000] - Train loss : 6.1551\n",
      "Epoch [137/1000] - Valid loss : 6.1840\n",
      "Epoch [138/1000] - Train loss : 6.1550\n",
      "Epoch [138/1000] - Valid loss : 6.1841\n",
      "Epoch [139/1000] - Train loss : 6.1557\n",
      "Epoch [139/1000] - Valid loss : 6.1840\n",
      "Epoch [140/1000] - Train loss : 6.1554\n",
      "Epoch [140/1000] - Valid loss : 6.1839\n",
      "New best loss: 6.183852\n",
      "Epoch [141/1000] - Train loss : 6.1550\n",
      "Epoch [141/1000] - Valid loss : 6.1840\n",
      "Epoch [142/1000] - Train loss : 6.1556\n",
      "Epoch [142/1000] - Valid loss : 6.1840\n",
      "Epoch [143/1000] - Train loss : 6.1555\n",
      "Epoch [143/1000] - Valid loss : 6.1892\n",
      "Epoch [144/1000] - Train loss : 6.1550\n",
      "Epoch [144/1000] - Valid loss : 6.1837\n",
      "New best loss: 6.183686\n",
      "Epoch [145/1000] - Train loss : 6.1553\n",
      "Epoch [145/1000] - Valid loss : 6.1851\n",
      "Epoch [146/1000] - Train loss : 6.1557\n",
      "Epoch [146/1000] - Valid loss : 6.1838\n",
      "Epoch [147/1000] - Train loss : 6.1542\n",
      "Epoch [147/1000] - Valid loss : 6.1838\n",
      "Epoch [148/1000] - Train loss : 6.1544\n",
      "Epoch [148/1000] - Valid loss : 6.1837\n",
      "New best loss: 6.183672\n",
      "Epoch [149/1000] - Train loss : 6.1549\n",
      "Epoch [149/1000] - Valid loss : 6.1898\n",
      "Epoch [150/1000] - Train loss : 6.1544\n",
      "Epoch [150/1000] - Valid loss : 6.1837\n",
      "New best loss: 6.183661\n",
      "Epoch [151/1000] - Train loss : 6.1554\n",
      "Epoch [151/1000] - Valid loss : 6.1839\n",
      "Epoch [152/1000] - Train loss : 6.1551\n",
      "Epoch [152/1000] - Valid loss : 6.1836\n",
      "New best loss: 6.183597\n",
      "Epoch [153/1000] - Train loss : 6.1552\n",
      "Epoch [153/1000] - Valid loss : 6.1842\n",
      "Epoch [154/1000] - Train loss : 6.1557\n",
      "Epoch [154/1000] - Valid loss : 6.1835\n",
      "New best loss: 6.183548\n",
      "Epoch [155/1000] - Train loss : 6.1557\n",
      "Epoch [155/1000] - Valid loss : 6.1836\n",
      "Epoch [156/1000] - Train loss : 6.1549\n",
      "Epoch [156/1000] - Valid loss : 6.1833\n",
      "New best loss: 6.183310\n",
      "Epoch [157/1000] - Train loss : 6.1547\n",
      "Epoch [157/1000] - Valid loss : 6.1835\n",
      "Epoch [158/1000] - Train loss : 6.1539\n",
      "Epoch [158/1000] - Valid loss : 6.1835\n",
      "Epoch [159/1000] - Train loss : 6.1543\n",
      "Epoch [159/1000] - Valid loss : 6.1836\n",
      "Epoch [160/1000] - Train loss : 6.1540\n",
      "Epoch [160/1000] - Valid loss : 6.1835\n",
      "Epoch [161/1000] - Train loss : 6.1560\n",
      "Epoch [161/1000] - Valid loss : 6.1846\n",
      "Epoch [162/1000] - Train loss : 6.1552\n",
      "Epoch [162/1000] - Valid loss : 6.1836\n",
      "Epoch [163/1000] - Train loss : 6.1542\n",
      "Epoch [163/1000] - Valid loss : 6.1836\n",
      "Epoch [164/1000] - Train loss : 6.1552\n",
      "Epoch [164/1000] - Valid loss : 6.1835\n",
      "Epoch [165/1000] - Train loss : 6.1544\n",
      "Epoch [165/1000] - Valid loss : 6.1835\n",
      "Epoch [166/1000] - Train loss : 6.1541\n",
      "Epoch [166/1000] - Valid loss : 6.1834\n",
      "Epoch [167/1000] - Train loss : 6.1542\n",
      "Epoch [167/1000] - Valid loss : 6.1834\n",
      "Epoch [168/1000] - Train loss : 6.1542\n",
      "Epoch [168/1000] - Valid loss : 6.1836\n",
      "Epoch [169/1000] - Train loss : 6.1547\n",
      "Epoch [169/1000] - Valid loss : 6.1834\n",
      "Epoch [170/1000] - Train loss : 6.1543\n",
      "Epoch [170/1000] - Valid loss : 6.1837\n",
      "Epoch [171/1000] - Train loss : 6.1551\n",
      "Epoch [171/1000] - Valid loss : 6.1835\n",
      "Epoch [172/1000] - Train loss : 6.1541\n",
      "Epoch [172/1000] - Valid loss : 6.1835\n"
     ]
    },
    {
     "data": {
      "text/plain": "<All keys matched successfully>"
     },
     "execution_count": 29,
     "metadata": {},
     "output_type": "execute_result"
    }
   ],
   "source": [
    "model_state_dict, train_losses, valid_losses = train(\n",
    "    model=dnn_model, train_loader=train_loader, valid_loader=valid_loader, criterion=criterion, \n",
    "    optimizer=optimizer, early_stopper=early_stopper, lr_scheduler=lr_scheduler, epochs=epochs\n",
    ")\n",
    "dnn_model.load_state_dict(model_state_dict)"
   ],
   "metadata": {
    "collapsed": false,
    "ExecuteTime": {
     "end_time": "2023-11-21T14:15:21.780014800Z",
     "start_time": "2023-11-21T12:15:12.191058600Z"
    }
   },
   "id": "cb700a42baacce3c"
  },
  {
   "cell_type": "code",
   "execution_count": 30,
   "outputs": [
    {
     "data": {
      "text/plain": "<Axes: >"
     },
     "execution_count": 30,
     "metadata": {},
     "output_type": "execute_result"
    },
    {
     "data": {
      "text/plain": "<Figure size 640x480 with 1 Axes>",
      "image/png": "[encoded data removed]"
     },
     "metadata": {},
     "output_type": "display_data"
    }
   ],
   "source": [
    "sns.lineplot(lr_list)"
   ],
   "metadata": {
    "collapsed": false,
    "ExecuteTime": {
     "end_time": "2023-11-21T14:15:22.210831400Z",
     "start_time": "2023-11-21T14:15:21.776530600Z"
    }
   },
   "id": "463766d57890b029"
  },
  {
   "cell_type": "code",
   "execution_count": 31,
   "outputs": [
    {
     "data": {
      "text/plain": "<Axes: >"
     },
     "execution_count": 31,
     "metadata": {},
     "output_type": "execute_result"
    },
    {
     "data": {
      "text/plain": "<Figure size 640x480 with 1 Axes>",
      "image/png": "[encoded data removed]"
     },
     "metadata": {},
     "output_type": "display_data"
    }
   ],
   "source": [
    "sns.lineplot(train_losses)\n",
    "sns.lineplot(valid_losses)"
   ],
   "metadata": {
    "collapsed": false,
    "ExecuteTime": {
     "end_time": "2023-11-21T14:15:22.518519100Z",
     "start_time": "2023-11-21T14:15:22.210831400Z"
    }
   },
   "id": "c4f3d734a20646c6"
  },
  {
   "cell_type": "code",
   "execution_count": 32,
   "outputs": [
    {
     "name": "stdout",
     "output_type": "stream",
     "text": [
      "----------------------------------------------------------------\n",
      "        Layer (type)               Output Shape         Param #\n",
      "================================================================\n",
      "            Linear-1                  [-1, 512]          55,808\n",
      "         LeakyReLU-2                  [-1, 512]               0\n",
      "           Dropout-3                  [-1, 512]               0\n",
      "            Linear-4                  [-1, 256]         131,328\n",
      "       BatchNorm1d-5                  [-1, 256]             512\n",
      "         LeakyReLU-6                  [-1, 256]               0\n",
      "            Linear-7                  [-1, 128]          32,896\n",
      "         LeakyReLU-8                  [-1, 128]               0\n",
      "           Dropout-9                  [-1, 128]               0\n",
      "           Linear-10                   [-1, 64]           8,256\n",
      "      BatchNorm1d-11                   [-1, 64]             128\n",
      "        LeakyReLU-12                   [-1, 64]               0\n",
      "           Linear-13                   [-1, 32]           2,080\n",
      "      BatchNorm1d-14                   [-1, 32]              64\n",
      "        LeakyReLU-15                   [-1, 32]               0\n",
      "          Dropout-16                   [-1, 32]               0\n",
      "           Linear-17                    [-1, 1]              33\n",
      "================================================================\n",
      "Total params: 231,105\n",
      "Trainable params: 231,105\n",
      "Non-trainable params: 0\n",
      "----------------------------------------------------------------\n",
      "Input size (MB): 0.00\n",
      "Forward/backward pass size (MB): 0.02\n",
      "Params size (MB): 0.88\n",
      "Estimated Total Size (MB): 0.90\n",
      "----------------------------------------------------------------\n"
     ]
    }
   ],
   "source": [
    "from torchsummary import summary\n",
    "\n",
    "summary(dnn_model, input_size=(df_train_feats.shape[1],))"
   ],
   "metadata": {
    "collapsed": false,
    "ExecuteTime": {
     "end_time": "2023-11-21T14:15:22.518519100Z",
     "start_time": "2023-11-21T14:15:22.470913Z"
    }
   },
   "id": "c2494aa4cf160ef6"
  },
  {
   "cell_type": "code",
   "execution_count": 32,
   "outputs": [],
   "source": [],
   "metadata": {
    "collapsed": false,
    "ExecuteTime": {
     "end_time": "2023-11-21T14:15:22.534157700Z",
     "start_time": "2023-11-21T14:15:22.518519100Z"
    }
   },
   "id": "7b62a3a2c10307a"
  }
 ],
 "metadata": {
  "kernelspec": {
   "display_name": "Python 3",
   "language": "python",
   "name": "python3"
  },
  "language_info": {
   "codemirror_mode": {
    "name": "ipython",
    "version": 2
   },
   "file_extension": ".py",
   "mimetype": "text/x-python",
   "name": "python",
   "nbconvert_exporter": "python",
   "pygments_lexer": "ipython2",
   "version": "2.7.6"
  }
 },
 "nbformat": 4,
 "nbformat_minor": 5
}
