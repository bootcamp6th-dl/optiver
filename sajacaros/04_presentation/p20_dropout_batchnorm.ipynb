{
 "cells": [
  {
   "cell_type": "code",
   "execution_count": 1,
   "id": "initial_id",
   "metadata": {
    "collapsed": true,
    "ExecuteTime": {
     "end_time": "2023-11-20T12:35:22.791984700Z",
     "start_time": "2023-11-20T12:35:22.784573600Z"
    }
   },
   "outputs": [],
   "source": [
    "# https://www.kaggle.com/code/zulqarnainali/explained-singel-model-optiver"
   ]
  },
  {
   "cell_type": "code",
   "execution_count": 2,
   "outputs": [],
   "source": [
    "import gc  # Garbage collection for memory management\n",
    "import os  # Operating system-related functions\n",
    "import time  # Time-related functions\n",
    "import warnings  # Handling warnings\n",
    "from itertools import combinations  # For creating combinations of elements\n",
    "from warnings import simplefilter  # Simplifying warning handling\n",
    "\n",
    "# 📦 Importing machine learning libraries\n",
    "import joblib  # For saving and loading models\n",
    "import numpy as np  # Numerical operations\n",
    "import pandas as pd  # Data manipulation and analysis\n",
    "from sklearn.metrics import mean_absolute_error  # Metric for evaluation\n",
    "from sklearn.model_selection import KFold, TimeSeriesSplit  # Cross-validation techniques\n",
    "\n",
    "import seaborn as sns\n",
    "import matplotlib.pyplot as plt"
   ],
   "metadata": {
    "collapsed": false,
    "ExecuteTime": {
     "end_time": "2023-11-20T12:35:23.052777700Z",
     "start_time": "2023-11-20T12:35:22.790106600Z"
    }
   },
   "id": "4b007a636cc52874"
  },
  {
   "cell_type": "code",
   "execution_count": 3,
   "outputs": [],
   "source": [
    "# 🤐 Disable warnings to keep the code clean\n",
    "warnings.filterwarnings(\"ignore\")\n",
    "simplefilter(action=\"ignore\", category=pd.errors.PerformanceWarning)\n",
    "\n",
    "# 📊 Define flags and variables\n",
    "is_offline = False  # Flag for online/offline mode\n",
    "is_train = True  # Flag for training mode\n",
    "is_infer = False  # Flag for inference mode"
   ],
   "metadata": {
    "collapsed": false,
    "ExecuteTime": {
     "end_time": "2023-11-20T12:35:23.071133600Z",
     "start_time": "2023-11-20T12:35:23.052777700Z"
    }
   },
   "id": "ce46cc9508c97d21"
  },
  {
   "cell_type": "code",
   "execution_count": 4,
   "outputs": [
    {
     "name": "stdout",
     "output_type": "stream",
     "text": [
      "far : 1.0017128691026516, near : 0.999660106068129\n"
     ]
    },
    {
     "data": {
      "text/plain": "(5237760, 17)"
     },
     "execution_count": 4,
     "metadata": {},
     "output_type": "execute_result"
    }
   ],
   "source": [
    "# 📂 Read the dataset from a CSV file using Pandas\n",
    "data_path = '../../data/'\n",
    "df = pd.read_csv(data_path + 'train.csv')\n",
    "\n",
    "# 🧹 Remove rows with missing values in the \"target\" column\n",
    "df = df.dropna(subset=[\"target\"])\n",
    "# null 값 처리\n",
    "far_price_mean = df['far_price'].mean()\n",
    "near_price_mean = df['near_price'].mean()\n",
    "print(f'far : {far_price_mean}, near : {near_price_mean}')\n",
    "# df['far_price'] = df['far_price'].fillna(far_price_mean)\n",
    "# df['near_price'] = df['near_price'].fillna(near_price_mean)\n",
    "df['far_price'] = df['far_price'].fillna(1)\n",
    "df['near_price'] = df['near_price'].fillna(0)\n",
    "\n",
    "df = df.dropna().reset_index(drop=True)\n",
    "\n",
    "# 📏 Get the shape of the DataFrame (number of rows and columns)\n",
    "df.shape"
   ],
   "metadata": {
    "collapsed": false,
    "ExecuteTime": {
     "end_time": "2023-11-20T12:35:29.891884800Z",
     "start_time": "2023-11-20T12:35:23.071133600Z"
    }
   },
   "id": "20287b05cdfd3d11"
  },
  {
   "cell_type": "code",
   "execution_count": 5,
   "outputs": [],
   "source": [
    "# 🧹 Function to reduce memory usage of a Pandas DataFrame\n",
    "def reduce_mem_usage(df_, verbose=0):\n",
    "    \"\"\"\n",
    "    Iterate through all numeric columns of a dataframe and modify the data type\n",
    "    to reduce memory usage.\n",
    "    \"\"\"\n",
    "    \n",
    "    # 📏 Calculate the initial memory usage of the DataFrame\n",
    "    start_mem = df_.memory_usage().sum() / 1024**2\n",
    "\n",
    "    # 🔄 Iterate through each column in the DataFrame\n",
    "    for col in df_.columns:\n",
    "        col_type = df_[col].dtype\n",
    "\n",
    "        # Check if the column's data type is not 'object' (i.e., numeric)\n",
    "        if col_type != object:\n",
    "            c_min = df_[col].min()\n",
    "            c_max = df_[col].max()\n",
    "            \n",
    "            # Check if the column's data type is an integer\n",
    "            if str(col_type)[:3] == \"int\":\n",
    "                if c_min > np.iinfo(np.int8).min and c_max < np.iinfo(np.int8).max:\n",
    "                    df_[col] = df_[col].astype(np.int8)\n",
    "                elif c_min > np.iinfo(np.int16).min and c_max < np.iinfo(np.int16).max:\n",
    "                    df_[col] = df_[col].astype(np.int16)\n",
    "                elif c_min > np.iinfo(np.int32).min and c_max < np.iinfo(np.int32).max:\n",
    "                    df_[col] = df_[col].astype(np.int32)\n",
    "                elif c_min > np.iinfo(np.int64).min and c_max < np.iinfo(np.int64).max:\n",
    "                    df_[col] = df_[col].astype(np.int64)\n",
    "            else:\n",
    "                # Check if the column's data type is a float\n",
    "                if c_min > np.finfo(np.float16).min and c_max < np.finfo(np.float16).max:\n",
    "                    df_[col] = df_[col].astype(np.float32)\n",
    "                elif c_min > np.finfo(np.float32).min and c_max < np.finfo(np.float32).max:\n",
    "                    df_[col] = df_[col].astype(np.float32)\n",
    "                else:\n",
    "                    df_[col] = df_[col].astype(np.float32)\n",
    "\n",
    "    # ℹ️ Provide memory optimization information if 'verbose' is True\n",
    "    if verbose:\n",
    "        logger.info(f\"Memory usage of dataframe is {start_mem:.2f} MB\")\n",
    "        end_mem = df_.memory_usage().sum() / 1024**2\n",
    "        logger.info(f\"Memory usage after optimization is: {end_mem:.2f} MB\")\n",
    "        decrease = 100 * (start_mem - end_mem) / start_mem\n",
    "        logger.info(f\"Decreased by {decrease:.2f}%\")\n",
    "\n",
    "    # 🔄 Return the DataFrame with optimized memory usage\n",
    "    return df_"
   ],
   "metadata": {
    "collapsed": false,
    "ExecuteTime": {
     "end_time": "2023-11-20T12:35:29.939622Z",
     "start_time": "2023-11-20T12:35:29.904094500Z"
    }
   },
   "id": "4bb82af2e0136e7e"
  },
  {
   "cell_type": "markdown",
   "source": [
    "# Parallel Triplet Imbalance Calculation"
   ],
   "metadata": {
    "collapsed": false
   },
   "id": "b184ea28544b1738"
  },
  {
   "cell_type": "code",
   "execution_count": 6,
   "outputs": [],
   "source": [
    "# 🏎️ Import Numba for just-in-time (JIT) compilation and parallel processing\n",
    "from numba import njit, prange\n",
    "\n",
    "eps = 1e-8\n",
    "\n",
    "@njit(parallel=True)\n",
    "def compute_triplet_imbalance(df_values, comb_indices):\n",
    "    num_rows = df_values.shape[0]\n",
    "    num_combinations = len(comb_indices)\n",
    "    imbalance_features = np.empty((num_rows, num_combinations))\n",
    "    for i in prange(num_combinations):\n",
    "        a, b, c = comb_indices[i]\n",
    "        for j in range(num_rows):\n",
    "            max_val = max(df_values[j, a], df_values[j, b], df_values[j, c])\n",
    "            min_val = min(df_values[j, a], df_values[j, b], df_values[j, c])\n",
    "            mid_val = df_values[j, a] + df_values[j, b] + df_values[j, c] - min_val - max_val\n",
    "            \n",
    "            # todo\n",
    "            if mid_val == min_val:\n",
    "                imbalance_features[j, i] = np.nan\n",
    "            else:\n",
    "                imbalance_features[j, i] = (max_val - mid_val) / (mid_val - min_val)\n",
    "\n",
    "    return imbalance_features\n",
    "\n",
    "def calculate_triplet_imbalance_numba(price, df_):\n",
    "    df_values = df_[price].values\n",
    "    comb_indices = [(price.index(a), price.index(b), price.index(c)) for a, b, c in combinations(price, 3)]\n",
    "    features_array = compute_triplet_imbalance(df_values, comb_indices)\n",
    "    columns = [f\"{a}_{b}_{c}_imb2\" for a, b, c in combinations(price, 3)]\n",
    "    features = pd.DataFrame(features_array, columns=columns)\n",
    "    return features"
   ],
   "metadata": {
    "collapsed": false,
    "ExecuteTime": {
     "end_time": "2023-11-20T12:35:30.221780200Z",
     "start_time": "2023-11-20T12:35:29.913404500Z"
    }
   },
   "id": "e0780db33a4d1df1"
  },
  {
   "cell_type": "markdown",
   "source": [
    "# Feature Generation Functions"
   ],
   "metadata": {
    "collapsed": false
   },
   "id": "ebf624355da2b062"
  },
  {
   "cell_type": "code",
   "execution_count": 7,
   "outputs": [],
   "source": [
    "def imbalance_features(df_:pd.DataFrame):\n",
    "    # Define lists of price and size-related column names\n",
    "    prices = [\"reference_price\", \"far_price\", \"near_price\", \"ask_price\", \"bid_price\", \"wap\"]\n",
    "    sizes = [\"matched_size\", \"bid_size\", \"ask_size\", \"imbalance_size\"]\n",
    "    df_[\"volume\"] = df_.eval(\"ask_size + bid_size\")\n",
    "    df_[\"mid_price\"] = df_.eval(\"(ask_price + bid_price) / 2\")\n",
    "    df_[\"liquidity_imbalance\"] = df_.eval(\"(bid_size-ask_size)/(bid_size+ask_size)\")\n",
    "    df_[\"matched_imbalance\"] = df_.eval(\"(imbalance_size-matched_size)/(matched_size+imbalance_size)\")\n",
    "    df_[\"size_imbalance\"] = df_.eval(\"bid_size / ask_size\")\n",
    "\n",
    "    for c in combinations(prices, 2):\n",
    "        df_[f\"{c[0]}_{c[1]}_imb\"] = df_.eval(f\"({c[0]} - {c[1]})/({c[0]} + {c[1]})\")\n",
    "\n",
    "    for c in [['ask_price', 'bid_price', 'wap', 'reference_price'], sizes]:\n",
    "        triplet_feature = calculate_triplet_imbalance_numba(c, df_)\n",
    "        df_[triplet_feature.columns] = triplet_feature.values\n",
    "   \n",
    "    df_[\"imbalance_momentum\"] = df_.groupby(['stock_id'])['imbalance_size'].diff(periods=1) / df_['matched_size']\n",
    "    df_[\"price_spread\"] = df_[\"ask_price\"] - df_[\"bid_price\"]\n",
    "    df_[\"spread_intensity\"] = df_.groupby(['stock_id'])['price_spread'].diff()\n",
    "    df_['price_pressure'] = df_['imbalance_size'] * (df_['ask_price'] - df_['bid_price'])\n",
    "    df_['market_urgency'] = df_['price_spread'] * df_['liquidity_imbalance']\n",
    "    df_['depth_pressure'] = (df_['ask_size'] - df_['bid_size']) * (df_['far_price'] - df_['near_price'])\n",
    "    \n",
    "    # Calculate various statistical aggregation features\n",
    "    for func in [\"mean\", \"std\", \"skew\", \"kurt\"]:\n",
    "        df_[f\"all_prices_{func}\"] = df_[prices].agg(func, axis=1)\n",
    "        df_[f\"all_sizes_{func}\"] = df_[sizes].agg(func, axis=1)\n",
    "        \n",
    "\n",
    "    for col in ['matched_size', 'imbalance_size', 'reference_price', 'imbalance_buy_sell_flag']:\n",
    "        for window in [1, 2, 3, 5, 10]:\n",
    "            df_[f\"{col}_shift_{window}\"] = df_.groupby('stock_id')[col].shift(window)\n",
    "            df_[f\"{col}_ret_{window}\"] = df_.groupby('stock_id')[col].pct_change(window)\n",
    "    \n",
    "    # Calculate diff features for specific columns\n",
    "    for col in ['ask_price', 'bid_price', 'ask_size', 'bid_size', 'market_urgency', 'imbalance_momentum', 'size_imbalance']:\n",
    "        for window in [1, 2, 3, 5, 10]:\n",
    "            df_[f\"{col}_diff_{window}\"] = df_.groupby(\"stock_id\")[col].diff(window)\n",
    "\n",
    "    return df_.replace([np.inf, -np.inf], 0)\n",
    "\n",
    "def other_features(df_):\n",
    "    df_[\"dow\"] = df_[\"date_id\"] % 5  # Day of the week\n",
    "    df_[\"seconds\"] = df_[\"seconds_in_bucket\"] % 60  \n",
    "    df_[\"minute\"] = df_[\"seconds_in_bucket\"] // 60  \n",
    "    for key, value in global_stock_id_feats.items():\n",
    "        df_[f\"global_{key}\"] = df_[\"stock_id\"].map(value.to_dict())\n",
    "\n",
    "    return df_\n",
    "\n",
    "def generate_all_features(df_):\n",
    "    # Select relevant columns for feature generation\n",
    "    cols = [c for c in df_.columns if c not in [\"row_id\", \"time_id\", \"target\"]]\n",
    "    df_ = df_[cols]\n",
    "    \n",
    "    # Generate imbalance features\n",
    "    df_ = imbalance_features(df_)\n",
    "    df_ = other_features(df_)\n",
    "    gc.collect()  \n",
    "    feature_name = [i for i in df_.columns if i not in [\"row_id\", \"target\", \"time_id\", \"date_id\"]]\n",
    "    return df_[feature_name]"
   ],
   "metadata": {
    "collapsed": false,
    "ExecuteTime": {
     "end_time": "2023-11-20T12:35:30.239132700Z",
     "start_time": "2023-11-20T12:35:30.237499300Z"
    }
   },
   "id": "b666bd8a027fc8b7"
  },
  {
   "cell_type": "code",
   "execution_count": 8,
   "outputs": [],
   "source": [
    "global_stock_id_feats = {\n",
    "    \"median_size\": df.groupby(\"stock_id\")[\"bid_size\"].median() + df.groupby(\"stock_id\")[\"ask_size\"].median(),\n",
    "    \"std_size\": df.groupby(\"stock_id\")[\"bid_size\"].std() + df.groupby(\"stock_id\")[\"ask_size\"].std(),\n",
    "    # \"ptp_size\": df.groupby(\"stock_id\")[\"bid_size\"].max() - df.groupby(\"stock_id\")[\"bid_size\"].min(),\n",
    "    \"ptp_size\": df.groupby(\"stock_id\")[\"bid_size\"].max() - df.groupby(\"stock_id\")[\"ask_size\"].min(),\n",
    "    \"median_price\": df.groupby(\"stock_id\")[\"bid_price\"].median() + df.groupby(\"stock_id\")[\"ask_price\"].median(),\n",
    "    \"std_price\": df.groupby(\"stock_id\")[\"bid_price\"].std() + df.groupby(\"stock_id\")[\"ask_price\"].std(),\n",
    "    \"ptp_price\": df.groupby(\"stock_id\")[\"bid_price\"].max() - df.groupby(\"stock_id\")[\"ask_price\"].min(),\n",
    "}\n",
    "\n",
    "y_all = df[['target']].values\n",
    "df_train_feats = generate_all_features(df)\n",
    "df_train_feats = reduce_mem_usage(df_train_feats)\n",
    "cols_group_by = ['stock_id', 'imbalance_buy_sell_flag']\n",
    "train_grouped_median = df_train_feats.groupby(cols_group_by).transform('median')\n",
    "df_train_feats = df_train_feats.fillna(train_grouped_median)\n",
    "df_train_feats = reduce_mem_usage(df_train_feats)"
   ],
   "metadata": {
    "collapsed": false,
    "ExecuteTime": {
     "end_time": "2023-11-20T12:37:41.951496300Z",
     "start_time": "2023-11-20T12:35:30.239132700Z"
    }
   },
   "id": "5a6ea818d706560a"
  },
  {
   "cell_type": "code",
   "execution_count": 9,
   "outputs": [
    {
     "data": {
      "text/plain": "(5237760, 139)"
     },
     "execution_count": 9,
     "metadata": {},
     "output_type": "execute_result"
    }
   ],
   "source": [
    "df_train_feats.shape"
   ],
   "metadata": {
    "collapsed": false,
    "ExecuteTime": {
     "end_time": "2023-11-20T12:37:41.998810900Z",
     "start_time": "2023-11-20T12:37:41.935580300Z"
    }
   },
   "id": "f8d468022a8c0935"
  },
  {
   "cell_type": "code",
   "execution_count": 10,
   "outputs": [
    {
     "data": {
      "text/plain": "stock_id                                     0\nask_price_diff_1                             0\nimbalance_buy_sell_flag_shift_3              0\nimbalance_buy_sell_flag_ret_3                0\nimbalance_buy_sell_flag_shift_5              0\n                                            ..\nbid_size_ask_size_imbalance_size_imb2        0\nmatched_size_ask_size_imbalance_size_imb2    0\nmatched_size_bid_size_imbalance_size_imb2    0\nmatched_size_bid_size_ask_size_imb2          0\nglobal_ptp_price                             0\nLength: 139, dtype: int64"
     },
     "execution_count": 10,
     "metadata": {},
     "output_type": "execute_result"
    }
   ],
   "source": [
    "df_train_feats.isnull().sum(axis=0).sort_values(ascending=False)"
   ],
   "metadata": {
    "collapsed": false,
    "ExecuteTime": {
     "end_time": "2023-11-20T12:37:42.622154700Z",
     "start_time": "2023-11-20T12:37:41.951496300Z"
    }
   },
   "id": "d254d90ef9e7f532"
  },
  {
   "cell_type": "code",
   "execution_count": 11,
   "outputs": [
    {
     "data": {
      "text/plain": "(5237760, 139)"
     },
     "execution_count": 11,
     "metadata": {},
     "output_type": "execute_result"
    }
   ],
   "source": [
    "df_train_feats.shape"
   ],
   "metadata": {
    "collapsed": false,
    "ExecuteTime": {
     "end_time": "2023-11-20T12:37:42.622154700Z",
     "start_time": "2023-11-20T12:37:42.606142200Z"
    }
   },
   "id": "64c3c92f42ef91ac"
  },
  {
   "cell_type": "code",
   "execution_count": 12,
   "outputs": [
    {
     "data": {
      "text/plain": "Index(['stock_id', 'seconds_in_bucket', 'imbalance_size',\n       'imbalance_buy_sell_flag', 'reference_price', 'matched_size',\n       'far_price', 'near_price', 'bid_price', 'bid_size',\n       ...\n       'size_imbalance_diff_10', 'dow', 'seconds', 'minute',\n       'global_median_size', 'global_std_size', 'global_ptp_size',\n       'global_median_price', 'global_std_price', 'global_ptp_price'],\n      dtype='object', length=139)"
     },
     "execution_count": 12,
     "metadata": {},
     "output_type": "execute_result"
    }
   ],
   "source": [
    "df_train_feats.columns"
   ],
   "metadata": {
    "collapsed": false,
    "ExecuteTime": {
     "end_time": "2023-11-20T12:37:42.637784500Z",
     "start_time": "2023-11-20T12:37:42.622154700Z"
    }
   },
   "id": "7bc0b2e82ba16847"
  },
  {
   "cell_type": "code",
   "execution_count": 13,
   "outputs": [],
   "source": [
    "from sklearn.preprocessing import MinMaxScaler, StandardScaler\n",
    "\n",
    "scaler = StandardScaler()\n",
    "X_all = scaler.fit_transform(df_train_feats.values)\n",
    "# X_all = df_train_feats.values\n",
    "# X_all = train_df[selected_features].values\n",
    "# y_all = df[['target']].values"
   ],
   "metadata": {
    "collapsed": false,
    "ExecuteTime": {
     "end_time": "2023-11-20T12:37:54.218930900Z",
     "start_time": "2023-11-20T12:37:42.637784500Z"
    }
   },
   "id": "486dbc5d7d823f02"
  },
  {
   "cell_type": "code",
   "execution_count": 14,
   "outputs": [],
   "source": [
    "from sklearn.model_selection import train_test_split\n",
    "\n",
    "X_train, X_valid, y_train, y_valid = train_test_split(X_all, y_all, test_size=0.2, random_state=42)"
   ],
   "metadata": {
    "collapsed": false,
    "ExecuteTime": {
     "end_time": "2023-11-20T12:38:06.095642500Z",
     "start_time": "2023-11-20T12:37:54.231939400Z"
    }
   },
   "id": "1a5eedad04b69daf"
  },
  {
   "cell_type": "code",
   "execution_count": 15,
   "outputs": [],
   "source": [
    "import torch\n",
    "import torch.nn as nn\n",
    "import torch.nn.functional as F\n",
    "from torch.utils.data import Dataset, TensorDataset, DataLoader\n",
    "from torchvision.transforms import transforms"
   ],
   "metadata": {
    "collapsed": false,
    "ExecuteTime": {
     "end_time": "2023-11-20T12:38:10.572328Z",
     "start_time": "2023-11-20T12:38:06.095642500Z"
    }
   },
   "id": "264ea7828933dfa7"
  },
  {
   "cell_type": "code",
   "execution_count": 16,
   "outputs": [
    {
     "data": {
      "text/plain": "device(type='cuda')"
     },
     "execution_count": 16,
     "metadata": {},
     "output_type": "execute_result"
    }
   ],
   "source": [
    "# 장비 설정\n",
    "device = torch.device('cuda' if torch.cuda.is_available() else 'cpu')\n",
    "device"
   ],
   "metadata": {
    "collapsed": false,
    "ExecuteTime": {
     "end_time": "2023-11-20T12:38:12.187371100Z",
     "start_time": "2023-11-20T12:38:10.572328Z"
    }
   },
   "id": "58a9f18e76fa1786"
  },
  {
   "cell_type": "code",
   "execution_count": 17,
   "outputs": [],
   "source": [
    "train_dataset = TensorDataset(torch.Tensor(X_train), torch.Tensor(y_train))\n",
    "valid_dataset = TensorDataset(torch.Tensor(X_valid), torch.Tensor(y_valid))"
   ],
   "metadata": {
    "collapsed": false,
    "ExecuteTime": {
     "end_time": "2023-11-20T12:38:12.264827200Z",
     "start_time": "2023-11-20T12:38:12.187371100Z"
    }
   },
   "id": "b5ea02e03ef08775"
  },
  {
   "cell_type": "code",
   "execution_count": 18,
   "outputs": [],
   "source": [
    "batch_size=2048\n",
    "train_loader = DataLoader(dataset=train_dataset, batch_size=batch_size, shuffle=True, drop_last=True)\n",
    "valid_loader = DataLoader(dataset=valid_dataset, batch_size=batch_size, shuffle=False, drop_last=True)"
   ],
   "metadata": {
    "collapsed": false,
    "ExecuteTime": {
     "end_time": "2023-11-20T12:38:12.264827200Z",
     "start_time": "2023-11-20T12:38:12.217074100Z"
    }
   },
   "id": "761956a8c31f34b3"
  },
  {
   "cell_type": "code",
   "execution_count": 19,
   "outputs": [],
   "source": [
    "# early stopper\n",
    "class EarlyStopper:\n",
    "    def __init__(self, patience=10, min_delta=0.00001):\n",
    "        self.best_model = None\n",
    "        self.patience = patience\n",
    "        self.min_delta = min_delta\n",
    "        self.counter = 0\n",
    "        self.min_validation_loss = float('inf')\n",
    "        \n",
    "    def get_best_model(self):\n",
    "        return self.best_model\n",
    "\n",
    "    def early_stop(self, validation_loss, model):\n",
    "        if validation_loss < self.min_validation_loss:\n",
    "            print(f\"New best loss: {validation_loss:>4f}\")\n",
    "            self.min_validation_loss = validation_loss\n",
    "            self.counter = 0\n",
    "            self.best_model = model\n",
    "        elif validation_loss > (self.min_validation_loss + self.min_delta):\n",
    "            self.counter += 1\n",
    "            if self.counter >= self.patience:\n",
    "                return True\n",
    "        return False"
   ],
   "metadata": {
    "collapsed": false,
    "ExecuteTime": {
     "end_time": "2023-11-20T12:38:12.264827200Z",
     "start_time": "2023-11-20T12:38:12.232704Z"
    }
   },
   "id": "3481059198b0a5e2"
  },
  {
   "cell_type": "code",
   "execution_count": 20,
   "outputs": [],
   "source": [
    "input_size = df_train_feats.shape[1]\n",
    "class DNNModel(nn.Module):\n",
    "    def __init__(self):\n",
    "        super().__init__()\n",
    "        self.fc0 = nn.Linear(in_features=input_size, out_features=1024)\n",
    "        self.bn0 = nn.BatchNorm1d(num_features=1024)\n",
    "        self.fc1 = nn.Linear(in_features=1024, out_features=512) \n",
    "        self.bn1 = nn.BatchNorm1d(num_features=512)\n",
    "        self.fc2 = nn.Linear(in_features=512, out_features=256)\n",
    "        self.bn2 = nn.BatchNorm1d(num_features=256)\n",
    "        self.fc3 = nn.Linear(in_features=256, out_features=128)\n",
    "        self.bn3 = nn.BatchNorm1d(num_features=128)\n",
    "        self.fc4 = nn.Linear(in_features=128, out_features=64)\n",
    "        self.bn4 = nn.BatchNorm1d(num_features=64)\n",
    "        self.fc5 = nn.Linear(in_features=64, out_features=32)\n",
    "        self.bn5 = nn.BatchNorm1d(num_features=32)\n",
    "        self.fc6 = nn.Linear(in_features=32, out_features=1)\n",
    "        self.dropout20 = nn.Dropout(p=0.2)\n",
    "        self.relu = nn.LeakyReLU() # activation layer\n",
    "\n",
    "\n",
    "    def forward(self, x):\n",
    "        x = self.relu(self.bn0(self.fc0(x)))\n",
    "        x = self.relu(self.bn1(self.fc1(x)))\n",
    "        x = self.relu(self.bn2(self.fc2(x)))\n",
    "        x = self.relu(self.bn3(self.fc3(x)))\n",
    "        x = self.relu(self.bn4(self.fc4(x)))\n",
    "        x = self.dropout20(self.relu(self.bn5(self.fc5(x))))\n",
    "        x = self.fc6(x)\n",
    "        return x"
   ],
   "metadata": {
    "collapsed": false,
    "ExecuteTime": {
     "end_time": "2023-11-20T12:38:12.264827200Z",
     "start_time": "2023-11-20T12:38:12.253808800Z"
    }
   },
   "id": "66884662e6f4483e"
  },
  {
   "cell_type": "code",
   "execution_count": 21,
   "outputs": [
    {
     "data": {
      "text/plain": "DNNModel(\n  (fc0): Linear(in_features=139, out_features=1024, bias=True)\n  (bn0): BatchNorm1d(1024, eps=1e-05, momentum=0.1, affine=True, track_running_stats=True)\n  (fc1): Linear(in_features=1024, out_features=512, bias=True)\n  (bn1): BatchNorm1d(512, eps=1e-05, momentum=0.1, affine=True, track_running_stats=True)\n  (fc2): Linear(in_features=512, out_features=256, bias=True)\n  (bn2): BatchNorm1d(256, eps=1e-05, momentum=0.1, affine=True, track_running_stats=True)\n  (fc3): Linear(in_features=256, out_features=128, bias=True)\n  (bn3): BatchNorm1d(128, eps=1e-05, momentum=0.1, affine=True, track_running_stats=True)\n  (fc4): Linear(in_features=128, out_features=64, bias=True)\n  (bn4): BatchNorm1d(64, eps=1e-05, momentum=0.1, affine=True, track_running_stats=True)\n  (fc5): Linear(in_features=64, out_features=32, bias=True)\n  (bn5): BatchNorm1d(32, eps=1e-05, momentum=0.1, affine=True, track_running_stats=True)\n  (fc6): Linear(in_features=32, out_features=1, bias=True)\n  (dropout20): Dropout(p=0.2, inplace=False)\n  (relu): LeakyReLU(negative_slope=0.01)\n)"
     },
     "execution_count": 21,
     "metadata": {},
     "output_type": "execute_result"
    }
   ],
   "source": [
    "dnn_model = DNNModel().to(device)\n",
    "dnn_model"
   ],
   "metadata": {
    "collapsed": false,
    "ExecuteTime": {
     "end_time": "2023-11-20T12:38:12.406351100Z",
     "start_time": "2023-11-20T12:38:12.264827200Z"
    }
   },
   "id": "682b486dbf2ddbf1"
  },
  {
   "cell_type": "code",
   "execution_count": 22,
   "outputs": [],
   "source": [
    "from tqdm.auto import tqdm\n",
    "epochs = 1000\n",
    "lr_list = []\n",
    "def train(model, train_loader, valid_loader, criterion, optimizer, early_stopper, lr_scheduler=None, epochs=100, save_file=data_path+'model_state_dict.pth'):\n",
    "    train_epoch_loss = []\n",
    "    valid_epoch_loss = []\n",
    "    for epoch in range(epochs):\n",
    "    \n",
    "        train_iter_loss = []\n",
    "        model.train()\n",
    "        for idx, (stocks, movements) in enumerate(train_loader):\n",
    "            stocks = stocks.to(device)\n",
    "            movements = movements.to(device)\n",
    "            outputs = model(stocks)\n",
    "            loss = criterion(outputs, movements)\n",
    "            train_iter_loss.append(loss.item())\n",
    "            optimizer.zero_grad() \n",
    "            loss.backward()\n",
    "            optimizer.step()\n",
    "            if lr_scheduler:\n",
    "                lr_scheduler.step()\n",
    "        print(f'Epoch [{epoch+1}/{epochs}] - Train loss : {sum(train_iter_loss)/len(train_loader):.4f}')\n",
    "        train_epoch_loss.append(sum(train_iter_loss)/len(train_loader))\n",
    "    \n",
    "        model.eval()\n",
    "        valid_iter_loss = []\n",
    "        for idx, (stocks, movements) in enumerate(valid_loader):\n",
    "            with torch.no_grad():\n",
    "                stocks = stocks.to(device)\n",
    "                movements = movements.to(device)\n",
    "                outputs = model(stocks)\n",
    "                loss = criterion(outputs, movements)\n",
    "                valid_iter_loss.append(loss.item())\n",
    "        print(f'Epoch [{epoch+1}/{epochs}] - Valid loss : {sum(valid_iter_loss)/len(valid_loader):.4f}')\n",
    "        valid_epoch_loss.append(sum(valid_iter_loss)/len(valid_loader))\n",
    "        if early_stopper.early_stop(sum(valid_iter_loss)/len(valid_loader), model):\n",
    "            torch.save(early_stopper.get_best_model().state_dict(), save_file)\n",
    "            break\n",
    "        gc.collect()\n",
    "    return torch.load(save_file), train_epoch_loss, valid_epoch_loss"
   ],
   "metadata": {
    "collapsed": false,
    "ExecuteTime": {
     "end_time": "2023-11-20T12:38:12.469249500Z",
     "start_time": "2023-11-20T12:38:12.406351100Z"
    }
   },
   "id": "36ec4e3f57d2817c"
  },
  {
   "cell_type": "code",
   "execution_count": 23,
   "outputs": [],
   "source": [
    "# 손실 함수\n",
    "criterion = nn.L1Loss()"
   ],
   "metadata": {
    "collapsed": false,
    "ExecuteTime": {
     "end_time": "2023-11-20T12:38:12.471581300Z",
     "start_time": "2023-11-20T12:38:12.421963500Z"
    }
   },
   "id": "9b37fe60382ec9a9"
  },
  {
   "cell_type": "code",
   "execution_count": 24,
   "outputs": [],
   "source": [
    "# 옵티마이저\n",
    "# optimizer = torch.optim.SGD(dnn_model.parameters(), lr=0.1, momentum=0.9, weight_decay=1e-5)\n",
    "optimizer = torch.optim.Adam(dnn_model.parameters(), lr=0.005)"
   ],
   "metadata": {
    "collapsed": false,
    "ExecuteTime": {
     "end_time": "2023-11-20T12:38:12.471581300Z",
     "start_time": "2023-11-20T12:38:12.437587200Z"
    }
   },
   "id": "a77321d3ac8d5d26"
  },
  {
   "cell_type": "code",
   "execution_count": 25,
   "outputs": [],
   "source": [
    "early_stopper = EarlyStopper(patience=15, min_delta=0.0001)"
   ],
   "metadata": {
    "collapsed": false,
    "ExecuteTime": {
     "end_time": "2023-11-20T12:38:12.502846200Z",
     "start_time": "2023-11-20T12:38:12.454231500Z"
    }
   },
   "id": "4f7139ac0cc15f04"
  },
  {
   "cell_type": "code",
   "execution_count": 26,
   "outputs": [
    {
     "name": "stdout",
     "output_type": "stream",
     "text": [
      "Epoch [1/1000] - Train loss : 6.2861\n",
      "Epoch [1/1000] - Valid loss : 6.2543\n",
      "New best loss: 6.254293\n",
      "Epoch [2/1000] - Train loss : 6.2652\n",
      "Epoch [2/1000] - Valid loss : 6.2481\n",
      "New best loss: 6.248134\n",
      "Epoch [3/1000] - Train loss : 6.2543\n",
      "Epoch [3/1000] - Valid loss : 6.2361\n",
      "New best loss: 6.236116\n",
      "Epoch [4/1000] - Train loss : 6.2450\n",
      "Epoch [4/1000] - Valid loss : 6.2270\n",
      "New best loss: 6.226974\n",
      "Epoch [5/1000] - Train loss : 6.2366\n",
      "Epoch [5/1000] - Valid loss : 6.2206\n",
      "New best loss: 6.220560\n",
      "Epoch [6/1000] - Train loss : 6.2291\n",
      "Epoch [6/1000] - Valid loss : 6.2206\n",
      "Epoch [7/1000] - Train loss : 6.2220\n",
      "Epoch [7/1000] - Valid loss : 6.2202\n",
      "New best loss: 6.220170\n",
      "Epoch [8/1000] - Train loss : 6.2150\n",
      "Epoch [8/1000] - Valid loss : 6.2181\n",
      "New best loss: 6.218070\n",
      "Epoch [9/1000] - Train loss : 6.2078\n",
      "Epoch [9/1000] - Valid loss : 6.2087\n",
      "New best loss: 6.208723\n",
      "Epoch [10/1000] - Train loss : 6.2007\n",
      "Epoch [10/1000] - Valid loss : 6.2078\n",
      "New best loss: 6.207779\n",
      "Epoch [11/1000] - Train loss : 6.1939\n",
      "Epoch [11/1000] - Valid loss : 6.2069\n",
      "New best loss: 6.206861\n",
      "Epoch [12/1000] - Train loss : 6.1870\n",
      "Epoch [12/1000] - Valid loss : 6.2048\n",
      "New best loss: 6.204788\n",
      "Epoch [13/1000] - Train loss : 6.1793\n",
      "Epoch [13/1000] - Valid loss : 6.2012\n",
      "New best loss: 6.201175\n",
      "Epoch [14/1000] - Train loss : 6.1711\n",
      "Epoch [14/1000] - Valid loss : 6.2041\n",
      "Epoch [15/1000] - Train loss : 6.1635\n",
      "Epoch [15/1000] - Valid loss : 6.2045\n",
      "Epoch [16/1000] - Train loss : 6.1549\n",
      "Epoch [16/1000] - Valid loss : 6.2044\n",
      "Epoch [17/1000] - Train loss : 6.1456\n",
      "Epoch [17/1000] - Valid loss : 6.1974\n",
      "New best loss: 6.197368\n",
      "Epoch [18/1000] - Train loss : 6.1371\n",
      "Epoch [18/1000] - Valid loss : 6.2041\n",
      "Epoch [19/1000] - Train loss : 6.1274\n",
      "Epoch [19/1000] - Valid loss : 6.1938\n",
      "New best loss: 6.193795\n",
      "Epoch [20/1000] - Train loss : 6.1187\n",
      "Epoch [20/1000] - Valid loss : 6.1931\n",
      "New best loss: 6.193075\n",
      "Epoch [21/1000] - Train loss : 6.1086\n",
      "Epoch [21/1000] - Valid loss : 6.1963\n",
      "Epoch [22/1000] - Train loss : 6.0995\n",
      "Epoch [22/1000] - Valid loss : 6.2281\n",
      "Epoch [23/1000] - Train loss : 6.0892\n",
      "Epoch [23/1000] - Valid loss : 6.1937\n",
      "Epoch [24/1000] - Train loss : 6.0798\n",
      "Epoch [24/1000] - Valid loss : 6.1930\n",
      "New best loss: 6.192997\n",
      "Epoch [25/1000] - Train loss : 6.0694\n",
      "Epoch [25/1000] - Valid loss : 6.1934\n",
      "Epoch [26/1000] - Train loss : 6.0603\n",
      "Epoch [26/1000] - Valid loss : 6.2022\n",
      "Epoch [27/1000] - Train loss : 6.0501\n",
      "Epoch [27/1000] - Valid loss : 6.1951\n",
      "Epoch [28/1000] - Train loss : 6.0405\n",
      "Epoch [28/1000] - Valid loss : 6.1921\n",
      "New best loss: 6.192081\n",
      "Epoch [29/1000] - Train loss : 6.0292\n",
      "Epoch [29/1000] - Valid loss : 6.2120\n",
      "Epoch [30/1000] - Train loss : 6.0202\n",
      "Epoch [30/1000] - Valid loss : 6.1873\n",
      "New best loss: 6.187253\n",
      "Epoch [31/1000] - Train loss : 6.0109\n",
      "Epoch [31/1000] - Valid loss : 6.1961\n",
      "Epoch [32/1000] - Train loss : 6.0006\n",
      "Epoch [32/1000] - Valid loss : 6.1866\n",
      "New best loss: 6.186624\n",
      "Epoch [33/1000] - Train loss : 5.9907\n",
      "Epoch [33/1000] - Valid loss : 6.1943\n",
      "Epoch [34/1000] - Train loss : 5.9810\n",
      "Epoch [34/1000] - Valid loss : 6.1969\n",
      "Epoch [35/1000] - Train loss : 5.9720\n",
      "Epoch [35/1000] - Valid loss : 6.1909\n",
      "Epoch [36/1000] - Train loss : 5.9616\n",
      "Epoch [36/1000] - Valid loss : 6.1908\n",
      "Epoch [37/1000] - Train loss : 5.9520\n",
      "Epoch [37/1000] - Valid loss : 6.2003\n",
      "Epoch [38/1000] - Train loss : 5.9445\n",
      "Epoch [38/1000] - Valid loss : 6.1855\n",
      "New best loss: 6.185492\n",
      "Epoch [39/1000] - Train loss : 5.9349\n",
      "Epoch [39/1000] - Valid loss : 6.1836\n",
      "New best loss: 6.183558\n",
      "Epoch [40/1000] - Train loss : 5.9258\n",
      "Epoch [40/1000] - Valid loss : 6.2025\n",
      "Epoch [41/1000] - Train loss : 5.9181\n",
      "Epoch [41/1000] - Valid loss : 6.2170\n",
      "Epoch [42/1000] - Train loss : 5.9086\n",
      "Epoch [42/1000] - Valid loss : 6.1842\n",
      "Epoch [43/1000] - Train loss : 5.9013\n",
      "Epoch [43/1000] - Valid loss : 6.1945\n",
      "Epoch [44/1000] - Train loss : 5.8945\n",
      "Epoch [44/1000] - Valid loss : 6.1927\n",
      "Epoch [45/1000] - Train loss : 5.8848\n",
      "Epoch [45/1000] - Valid loss : 6.1985\n",
      "Epoch [46/1000] - Train loss : 5.8765\n",
      "Epoch [46/1000] - Valid loss : 6.1908\n",
      "Epoch [47/1000] - Train loss : 5.8695\n",
      "Epoch [47/1000] - Valid loss : 6.1919\n",
      "Epoch [48/1000] - Train loss : 5.8624\n",
      "Epoch [48/1000] - Valid loss : 6.1939\n",
      "Epoch [49/1000] - Train loss : 5.8550\n",
      "Epoch [49/1000] - Valid loss : 6.2105\n",
      "Epoch [50/1000] - Train loss : 5.8473\n",
      "Epoch [50/1000] - Valid loss : 6.1897\n",
      "Epoch [51/1000] - Train loss : 5.8390\n",
      "Epoch [51/1000] - Valid loss : 6.1854\n",
      "Epoch [52/1000] - Train loss : 5.8327\n",
      "Epoch [52/1000] - Valid loss : 6.2120\n",
      "Epoch [53/1000] - Train loss : 5.8252\n",
      "Epoch [53/1000] - Valid loss : 6.1917\n",
      "Epoch [54/1000] - Train loss : 5.8183\n",
      "Epoch [54/1000] - Valid loss : 6.2022\n"
     ]
    },
    {
     "data": {
      "text/plain": "<All keys matched successfully>"
     },
     "execution_count": 26,
     "metadata": {},
     "output_type": "execute_result"
    }
   ],
   "source": [
    "model_state_dict, train_losses, valid_losses = train(\n",
    "    model=dnn_model, train_loader=train_loader, valid_loader=valid_loader, criterion=criterion, \n",
    "    optimizer=optimizer, early_stopper=early_stopper, lr_scheduler=None, epochs=epochs\n",
    ")\n",
    "dnn_model.load_state_dict(model_state_dict)"
   ],
   "metadata": {
    "collapsed": false,
    "ExecuteTime": {
     "end_time": "2023-11-20T13:13:52.197487400Z",
     "start_time": "2023-11-20T12:38:12.471581300Z"
    }
   },
   "id": "cb700a42baacce3c"
  },
  {
   "cell_type": "code",
   "execution_count": 27,
   "outputs": [
    {
     "data": {
      "text/plain": "<Axes: >"
     },
     "execution_count": 27,
     "metadata": {},
     "output_type": "execute_result"
    },
    {
     "data": {
      "text/plain": "<Figure size 640x480 with 1 Axes>",
      "image/png": "[encoded data removed]"
     },
     "metadata": {},
     "output_type": "display_data"
    }
   ],
   "source": [
    "sns.lineplot(train_losses)\n",
    "sns.lineplot(valid_losses)"
   ],
   "metadata": {
    "collapsed": false,
    "ExecuteTime": {
     "end_time": "2023-11-20T13:13:52.276644700Z",
     "start_time": "2023-11-20T13:13:51.725615700Z"
    }
   },
   "id": "c4f3d734a20646c6"
  }
 ],
 "metadata": {
  "kernelspec": {
   "display_name": "Python 3",
   "language": "python",
   "name": "python3"
  },
  "language_info": {
   "codemirror_mode": {
    "name": "ipython",
    "version": 2
   },
   "file_extension": ".py",
   "mimetype": "text/x-python",
   "name": "python",
   "nbconvert_exporter": "python",
   "pygments_lexer": "ipython2",
   "version": "2.7.6"
  }
 },
 "nbformat": 4,
 "nbformat_minor": 5
}
